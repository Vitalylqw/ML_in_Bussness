{
 "cells": [
  {
   "cell_type": "markdown",
   "metadata": {},
   "source": [
    "### Урок 2. #Профилирование пользователей. Сегментация аудитории: unsupervised learning (clustering, LDA/ARTM), supervised (multi/binary classification)#"
   ]
  },
  {
   "cell_type": "markdown",
   "metadata": {},
   "source": [
    "![ab_split](tm1.png \"TM1\")"
   ]
  },
  {
   "cell_type": "markdown",
   "metadata": {},
   "source": [
    "### Переходим к практике"
   ]
  },
  {
   "cell_type": "code",
   "execution_count": 1,
   "metadata": {},
   "outputs": [],
   "source": [
    "import pandas as pd\n",
    "from sklearn.preprocessing import StandardScaler\n",
    "from sklearn.preprocessing import MinMaxScaler"
   ]
  },
  {
   "cell_type": "markdown",
   "metadata": {},
   "source": [
    "Наши новости"
   ]
  },
  {
   "cell_type": "code",
   "execution_count": 2,
   "metadata": {},
   "outputs": [
    {
     "name": "stdout",
     "output_type": "stream",
     "text": [
      "(27000, 2)\n"
     ]
    },
    {
     "data": {
      "text/html": [
       "<div>\n",
       "<style scoped>\n",
       "    .dataframe tbody tr th:only-of-type {\n",
       "        vertical-align: middle;\n",
       "    }\n",
       "\n",
       "    .dataframe tbody tr th {\n",
       "        vertical-align: top;\n",
       "    }\n",
       "\n",
       "    .dataframe thead th {\n",
       "        text-align: right;\n",
       "    }\n",
       "</style>\n",
       "<table border=\"1\" class=\"dataframe\">\n",
       "  <thead>\n",
       "    <tr style=\"text-align: right;\">\n",
       "      <th></th>\n",
       "      <th>doc_id</th>\n",
       "      <th>title</th>\n",
       "    </tr>\n",
       "  </thead>\n",
       "  <tbody>\n",
       "    <tr>\n",
       "      <th>0</th>\n",
       "      <td>6</td>\n",
       "      <td>Заместитель председателяnправительства РФnСерг...</td>\n",
       "    </tr>\n",
       "    <tr>\n",
       "      <th>1</th>\n",
       "      <td>4896</td>\n",
       "      <td>Матч 1/16 финала Кубка России по футболу был п...</td>\n",
       "    </tr>\n",
       "    <tr>\n",
       "      <th>2</th>\n",
       "      <td>4897</td>\n",
       "      <td>Форвард «Авангарда» Томаш Заборский прокоммент...</td>\n",
       "    </tr>\n",
       "  </tbody>\n",
       "</table>\n",
       "</div>"
      ],
      "text/plain": [
       "   doc_id                                              title\n",
       "0       6  Заместитель председателяnправительства РФnСерг...\n",
       "1    4896  Матч 1/16 финала Кубка России по футболу был п...\n",
       "2    4897  Форвард «Авангарда» Томаш Заборский прокоммент..."
      ]
     },
     "execution_count": 2,
     "metadata": {},
     "output_type": "execute_result"
    }
   ],
   "source": [
    "news = pd.read_csv(\"articles.csv\")\n",
    "print(news.shape)\n",
    "news.head(3)"
   ]
  },
  {
   "cell_type": "markdown",
   "metadata": {},
   "source": [
    "Загрузим пользователей и списки последних прочитанных новостей"
   ]
  },
  {
   "cell_type": "code",
   "execution_count": 3,
   "metadata": {},
   "outputs": [
    {
     "data": {
      "text/html": [
       "<div>\n",
       "<style scoped>\n",
       "    .dataframe tbody tr th:only-of-type {\n",
       "        vertical-align: middle;\n",
       "    }\n",
       "\n",
       "    .dataframe tbody tr th {\n",
       "        vertical-align: top;\n",
       "    }\n",
       "\n",
       "    .dataframe thead th {\n",
       "        text-align: right;\n",
       "    }\n",
       "</style>\n",
       "<table border=\"1\" class=\"dataframe\">\n",
       "  <thead>\n",
       "    <tr style=\"text-align: right;\">\n",
       "      <th></th>\n",
       "      <th>uid</th>\n",
       "      <th>articles</th>\n",
       "    </tr>\n",
       "  </thead>\n",
       "  <tbody>\n",
       "    <tr>\n",
       "      <th>0</th>\n",
       "      <td>u105138</td>\n",
       "      <td>[293672, 293328, 293001, 293622, 293126, 1852]</td>\n",
       "    </tr>\n",
       "    <tr>\n",
       "      <th>1</th>\n",
       "      <td>u108690</td>\n",
       "      <td>[3405, 1739, 2972, 1158, 1599, 322665]</td>\n",
       "    </tr>\n",
       "    <tr>\n",
       "      <th>2</th>\n",
       "      <td>u108339</td>\n",
       "      <td>[1845, 2009, 2356, 1424, 2939, 323389]</td>\n",
       "    </tr>\n",
       "  </tbody>\n",
       "</table>\n",
       "</div>"
      ],
      "text/plain": [
       "       uid                                        articles\n",
       "0  u105138  [293672, 293328, 293001, 293622, 293126, 1852]\n",
       "1  u108690          [3405, 1739, 2972, 1158, 1599, 322665]\n",
       "2  u108339          [1845, 2009, 2356, 1424, 2939, 323389]"
      ]
     },
     "execution_count": 3,
     "metadata": {},
     "output_type": "execute_result"
    }
   ],
   "source": [
    "users = pd.read_csv(\"users_articles.csv\")\n",
    "users.head(3)"
   ]
  },
  {
   "cell_type": "markdown",
   "metadata": {},
   "source": [
    "Итак, нам нужно получить векторные представления пользователей на основе прочитанным ими новостей и самих новостей"
   ]
  },
  {
   "cell_type": "markdown",
   "metadata": {},
   "source": [
    "### 1. Получаем векторные представления новостей"
   ]
  },
  {
   "cell_type": "code",
   "execution_count": 4,
   "metadata": {},
   "outputs": [],
   "source": [
    "#from gensim.test.utils import common_texts\n",
    "from gensim.corpora.dictionary import Dictionary"
   ]
  },
  {
   "cell_type": "code",
   "execution_count": 5,
   "metadata": {},
   "outputs": [],
   "source": [
    "#предобработка текстов\n",
    "import re\n",
    "import numpy as np\n",
    "from nltk.corpus import stopwords\n",
    "#from nltk.tokenize import word_tokenize\n",
    "\n",
    "from razdel import tokenize # https://github.com/natasha/razdel\n",
    "#!pip install razdel\n",
    "\n",
    "import pymorphy2  # pip install pymorphy2"
   ]
  },
  {
   "cell_type": "code",
   "execution_count": 6,
   "metadata": {},
   "outputs": [
    {
     "name": "stderr",
     "output_type": "stream",
     "text": [
      "[nltk_data] Downloading package stopwords to\n",
      "[nltk_data]     C:\\Users\\lqw\\AppData\\Roaming\\nltk_data...\n",
      "[nltk_data]   Package stopwords is already up-to-date!\n"
     ]
    },
    {
     "data": {
      "text/plain": [
       "True"
      ]
     },
     "execution_count": 6,
     "metadata": {},
     "output_type": "execute_result"
    }
   ],
   "source": [
    "import nltk\n",
    "nltk.download('stopwords')"
   ]
  },
  {
   "cell_type": "code",
   "execution_count": 7,
   "metadata": {},
   "outputs": [
    {
     "name": "stdout",
     "output_type": "stream",
     "text": [
      "151\n"
     ]
    }
   ],
   "source": [
    "stopword_ru = stopwords.words('russian')\n",
    "print(len(stopword_ru))\n",
    "\n",
    "morph = pymorphy2.MorphAnalyzer()"
   ]
  },
  {
   "cell_type": "code",
   "execution_count": 8,
   "metadata": {},
   "outputs": [
    {
     "data": {
      "text/plain": [
       "776"
      ]
     },
     "execution_count": 8,
     "metadata": {},
     "output_type": "execute_result"
    }
   ],
   "source": [
    "with open('stopwords.txt') as f:\n",
    "    additional_stopwords = [w.strip() for w in f.readlines() if w]\n",
    "stopword_ru += additional_stopwords\n",
    "len(stopword_ru)"
   ]
  },
  {
   "cell_type": "code",
   "execution_count": 9,
   "metadata": {},
   "outputs": [],
   "source": [
    "def clean_text(text):\n",
    "    '''\n",
    "    очистка текста\n",
    "    \n",
    "    на выходе очищеный текст\n",
    "    \n",
    "    '''\n",
    "    if not isinstance(text, str):\n",
    "        text = str(text)\n",
    "    \n",
    "    text = text.lower()\n",
    "    text = text.strip('\\n').strip('\\r').strip('\\t')\n",
    "    text = re.sub(\"-\\s\\r\\n\\|-\\s\\r\\n|\\r\\n\", '', str(text))\n",
    "\n",
    "    text = re.sub(\"[0-9]|[-—.,:;_%©«»?*!@#№$^•·&()]|[+=]|[[]|[]]|[/]|\", '', text)\n",
    "    text = re.sub(r\"\\r\\n\\t|\\n|\\\\s|\\r\\t|\\\\n\", ' ', text)\n",
    "    text = re.sub(r'[\\xad]|[\\s+]', ' ', text.strip())\n",
    "    \n",
    "    #tokens = list(tokenize(text))\n",
    "    #words = [_.text for _ in tokens]\n",
    "    #words = [w for w in words if w not in stopword_ru]\n",
    "    \n",
    "    #return \" \".join(words)\n",
    "    return text\n",
    "\n",
    "cache = {}\n",
    "\n",
    "def lemmatization(text):\n",
    "    '''\n",
    "    лемматизация\n",
    "        [0] если зашел тип не `str` делаем его `str`\n",
    "        [1] токенизация предложения через razdel\n",
    "        [2] проверка есть ли в начале слова '-'\n",
    "        [3] проверка токена с одного символа\n",
    "        [4] проверка есть ли данное слово в кэше\n",
    "        [5] лемматизация слова\n",
    "        [6] проверка на стоп-слова\n",
    "\n",
    "    на выходе лист отлемматизированых токенов\n",
    "    '''\n",
    "\n",
    "    # [0]\n",
    "    if not isinstance(text, str):\n",
    "        text = str(text)\n",
    "    \n",
    "    # [1]\n",
    "    tokens = list(tokenize(text))\n",
    "    words = [_.text for _ in tokens]\n",
    "\n",
    "    words_lem = []\n",
    "    for w in words:\n",
    "        if w[0] == '-': # [2]\n",
    "            w = w[1:]\n",
    "        if len(w)>1: # [3]\n",
    "            if w in cache: # [4]\n",
    "                words_lem.append(cache[w])\n",
    "            else: # [5]\n",
    "                temp_cach = cache[w] = morph.parse(w)[0].normal_form\n",
    "                words_lem.append(temp_cach)\n",
    "    \n",
    "    words_lem_without_stopwords=[i for i in words_lem if not i in stopword_ru] # [6]\n",
    "    \n",
    "    return words_lem_without_stopwords"
   ]
  },
  {
   "cell_type": "code",
   "execution_count": 10,
   "metadata": {
    "scrolled": true
   },
   "outputs": [
    {
     "name": "stderr",
     "output_type": "stream",
     "text": [
      "<ipython-input-9-7ee348d9b386>:15: FutureWarning: Possible nested set at position 39\n",
      "  text = re.sub(\"[0-9]|[-—.,:;_%©«»?*!@#№$^•·&()]|[+=]|[[]|[]]|[/]|\", '', text)\n"
     ]
    },
    {
     "name": "stdout",
     "output_type": "stream",
     "text": [
      "Wall time: 21.2 s\n"
     ]
    }
   ],
   "source": [
    "%%time\n",
    "#Запускаем очистку текста. Будет долго...\n",
    "news['title'] = news['title'].apply(lambda x: clean_text(x), 1)"
   ]
  },
  {
   "cell_type": "code",
   "execution_count": 11,
   "metadata": {},
   "outputs": [
    {
     "name": "stdout",
     "output_type": "stream",
     "text": [
      "Wall time: 2min 42s\n"
     ]
    }
   ],
   "source": [
    "%%time\n",
    "#Запускаем лемматизацию текста. Будет очень долго...\n",
    "news['title'] = news['title'].apply(lambda x: lemmatization(x), 1)"
   ]
  },
  {
   "cell_type": "markdown",
   "metadata": {},
   "source": [
    "А теперь в 3 строчки обучим нашу модель"
   ]
  },
  {
   "cell_type": "code",
   "execution_count": 12,
   "metadata": {},
   "outputs": [],
   "source": [
    "#сформируем список наших текстов, разбив еще и на пробелы\n",
    "texts = [t for t in news['title'].values]"
   ]
  },
  {
   "cell_type": "code",
   "execution_count": 13,
   "metadata": {},
   "outputs": [],
   "source": [
    "# Create a corpus from a list of texts\n",
    "common_dictionary = Dictionary(texts)\n",
    "common_corpus = [common_dictionary.doc2bow(text) for text in texts]"
   ]
  },
  {
   "cell_type": "markdown",
   "metadata": {},
   "source": [
    "Что такое common_dictionary и как он выглядит"
   ]
  },
  {
   "cell_type": "code",
   "execution_count": 14,
   "metadata": {},
   "outputs": [
    {
     "data": {
      "text/plain": [
       "'директор'"
      ]
     },
     "execution_count": 14,
     "metadata": {},
     "output_type": "execute_result"
    }
   ],
   "source": [
    "common_dictionary[19]"
   ]
  },
  {
   "cell_type": "markdown",
   "metadata": {},
   "source": [
    "Все просто - это словарь наших слов"
   ]
  },
  {
   "cell_type": "markdown",
   "metadata": {},
   "source": [
    "Запускаем обучение"
   ]
  },
  {
   "cell_type": "code",
   "execution_count": 15,
   "metadata": {},
   "outputs": [
    {
     "name": "stdout",
     "output_type": "stream",
     "text": [
      "Wall time: 45.4 s\n"
     ]
    }
   ],
   "source": [
    "%%time\n",
    "from gensim.models import LdaModel\n",
    "# Train the model on the corpus.\n",
    "lda = LdaModel(common_corpus, num_topics=25, id2word=common_dictionary)#, passes=10)"
   ]
  },
  {
   "cell_type": "code",
   "execution_count": 16,
   "metadata": {},
   "outputs": [],
   "source": [
    "from gensim.test.utils import datapath\n",
    "# Save model to disk.\n",
    "temp_file = datapath(\"model.lda\")\n",
    "lda.save(temp_file)\n",
    "\n",
    "# Load a potentially pretrained model from disk.\n",
    "lda = LdaModel.load(temp_file)"
   ]
  },
  {
   "cell_type": "markdown",
   "metadata": {},
   "source": [
    "Обучили модель. Теперь 2 вопроса:\n",
    "\n",
    "1. как выглядят наши темы\n",
    "2. как получить для документа вектор значений (вероятности принадлежности каждой теме)"
   ]
  },
  {
   "cell_type": "code",
   "execution_count": 17,
   "metadata": {},
   "outputs": [
    {
     "name": "stdout",
     "output_type": "stream",
     "text": [
      "['форвард', 'авангард', 'томаш', 'заборский', 'прокомментировать', 'игра', 'свой', 'команда', 'матч', 'чемпионат', 'кхл', 'против', 'атланта', 'nnnn', 'провести', 'плохой', 'матч', 'нижний', 'новгород', 'против', 'торпедо', 'настраиваться', 'первый', 'минута', 'включиться', 'работа', 'сказать', 'заборский', 'получиться', 'забросить', 'быстрый', 'гол', 'задать', 'хороший', 'темп', 'поединок', 'мочь', 'играть', 'ещё', 'хороший', 'сторона', 'пять', 'очко', 'выезд', 'девять', 'это', 'хороший']\n"
     ]
    },
    {
     "data": {
      "text/plain": [
       "[(7, 0.41014013),\n",
       " (10, 0.13383622),\n",
       " (16, 0.21603374),\n",
       " (20, 0.025802137),\n",
       " (21, 0.050827928),\n",
       " (24, 0.14628959)]"
      ]
     },
     "execution_count": 17,
     "metadata": {},
     "output_type": "execute_result"
    }
   ],
   "source": [
    "# Create a new corpus, made of previously unseen documents.\n",
    "other_texts = [t for t in news['title'].iloc[:3]]\n",
    "other_corpus = [common_dictionary.doc2bow(text) for text in other_texts]\n",
    "\n",
    "unseen_doc = other_corpus[2]\n",
    "print(other_texts[2])\n",
    "lda[unseen_doc] "
   ]
  },
  {
   "cell_type": "code",
   "execution_count": 18,
   "metadata": {},
   "outputs": [
    {
     "name": "stdout",
     "output_type": "stream",
     "text": [
      "topic_0: сша nn район американский рак напомнить взрыв\n",
      "topic_1: обращение разместить океан употребление лауреат звание выручка\n",
      "topic_2: пилот су направлять timesn редкость приступ выписка\n",
      "topic_3: дело сотрудник мужчина полиция женщина убийство задержать\n",
      "topic_4: обнаружить день это человек источник москва который\n",
      "topic_5: тело организм летний год иск сын ребёнок\n",
      "topic_6: год рубль украина гражданин nn суд ребёнок\n",
      "topic_7: это который мочь человек весь всё свой\n",
      "topic_8: сша американский научный рост журнал это агентство\n",
      "topic_9: газ след агентство обнаружить плата зарплата сектор\n",
      "topic_10: станция пенсия место белоруссия год nn стать\n",
      "topic_11: турция лётчик индустрия ирак визит шкала иракский\n",
      "topic_12: банк налог дональд открытие страна ii ноябрь\n",
      "topic_13: фестиваль мероприятие сайт программа страдать пройти узнать\n",
      "topic_14: земля поверхность двигатель спрос минск ухо уральский\n",
      "topic_15: медведев форум сведение треть ближний реконструкция мэр\n",
      "topic_16: россия это который российский год страна правительство\n",
      "topic_17: билет сенатор близость кит жуковский кузьмин аллен\n",
      "topic_18: свет северный рейс это который ступень городской\n",
      "topic_19: компания который это свой новый мочь весь\n",
      "topic_20: палата вуз знаменитый кость внедрение звонок ядро\n",
      "topic_21: военный год тело турецкий космонавт штат фильм\n",
      "topic_22: год это который исследование млрд мочь новый\n",
      "topic_23: который человек это пациент президент врач год\n",
      "topic_24: век испания испанский напомнить светлый художественный югра\n"
     ]
    }
   ],
   "source": [
    "x=lda.show_topics(num_topics=25, num_words=7,formatted=False)\n",
    "topics_words = [(tp[0], [wd[0] for wd in tp[1]]) for tp in x]\n",
    "\n",
    "#Below Code Prints O[(20,\n",
    "#   '0.016*\"памятник\" + 0.015*\"пресссекретарить\" + 0.015*\"украина\" + 0.014*\"белоруссия\" + 0.013*\"общество\" + 0.013*\"квартира\" + 0.010*\"путин\" + 0.010*\"nn\" + 0.010*\"песок\" + 0.009*\"владимир\"')nly Words \n",
    "for topic,words in topics_words:\n",
    "    print(\"topic_{}: \".format(topic)+\" \".join(words))"
   ]
  },
  {
   "cell_type": "markdown",
   "metadata": {},
   "source": [
    "Очень неплохо - большинство тем вполне можно описать о чем они"
   ]
  },
  {
   "cell_type": "markdown",
   "metadata": {},
   "source": [
    "Давайте напишем функцию, которая будет нам возвращать векторное представление новости"
   ]
  },
  {
   "cell_type": "code",
   "execution_count": 19,
   "metadata": {},
   "outputs": [],
   "source": [
    "#text = news['title'].iloc[0]\n",
    "\n",
    "def get_lda_vector(text):\n",
    "    unseen_doc = common_dictionary.doc2bow(text)\n",
    "    lda_tuple = lda[unseen_doc]\n",
    "    not_null_topics = dict(zip([i[0] for i in lda_tuple], [i[1] for i in lda_tuple]))\n",
    "    output_vector = []\n",
    "    for i in range(25):\n",
    "        if i not in not_null_topics:\n",
    "            output_vector.append(0)\n",
    "        else:\n",
    "            output_vector.append(not_null_topics[i])\n",
    "    return np.array(output_vector)"
   ]
  },
  {
   "cell_type": "code",
   "execution_count": 20,
   "metadata": {},
   "outputs": [],
   "source": [
    "topic_matrix = pd.DataFrame([get_lda_vector(text) for text in news['title'].values])"
   ]
  },
  {
   "cell_type": "code",
   "execution_count": 21,
   "metadata": {},
   "outputs": [],
   "source": [
    "topic_matrix.columns = ['topic_{}'.format(i) for i in range(25)]\n",
    "topic_matrix['doc_id'] = news['doc_id'].values"
   ]
  },
  {
   "cell_type": "code",
   "execution_count": 22,
   "metadata": {},
   "outputs": [],
   "source": [
    "topic_matrix = topic_matrix[['doc_id']+['topic_{}'.format(i) for i in range(25)]]"
   ]
  },
  {
   "cell_type": "code",
   "execution_count": 23,
   "metadata": {},
   "outputs": [
    {
     "data": {
      "text/html": [
       "<div>\n",
       "<style scoped>\n",
       "    .dataframe tbody tr th:only-of-type {\n",
       "        vertical-align: middle;\n",
       "    }\n",
       "\n",
       "    .dataframe tbody tr th {\n",
       "        vertical-align: top;\n",
       "    }\n",
       "\n",
       "    .dataframe thead th {\n",
       "        text-align: right;\n",
       "    }\n",
       "</style>\n",
       "<table border=\"1\" class=\"dataframe\">\n",
       "  <thead>\n",
       "    <tr style=\"text-align: right;\">\n",
       "      <th></th>\n",
       "      <th>doc_id</th>\n",
       "      <th>topic_0</th>\n",
       "      <th>topic_1</th>\n",
       "      <th>topic_2</th>\n",
       "      <th>topic_3</th>\n",
       "      <th>topic_4</th>\n",
       "      <th>topic_5</th>\n",
       "      <th>topic_6</th>\n",
       "      <th>topic_7</th>\n",
       "      <th>topic_8</th>\n",
       "      <th>...</th>\n",
       "      <th>topic_15</th>\n",
       "      <th>topic_16</th>\n",
       "      <th>topic_17</th>\n",
       "      <th>topic_18</th>\n",
       "      <th>topic_19</th>\n",
       "      <th>topic_20</th>\n",
       "      <th>topic_21</th>\n",
       "      <th>topic_22</th>\n",
       "      <th>topic_23</th>\n",
       "      <th>topic_24</th>\n",
       "    </tr>\n",
       "  </thead>\n",
       "  <tbody>\n",
       "    <tr>\n",
       "      <th>0</th>\n",
       "      <td>6</td>\n",
       "      <td>0.000000</td>\n",
       "      <td>0.0</td>\n",
       "      <td>0.0</td>\n",
       "      <td>0.0</td>\n",
       "      <td>0.0</td>\n",
       "      <td>0.0</td>\n",
       "      <td>0.000000</td>\n",
       "      <td>0.018403</td>\n",
       "      <td>0.0</td>\n",
       "      <td>...</td>\n",
       "      <td>0.0</td>\n",
       "      <td>0.845978</td>\n",
       "      <td>0.0</td>\n",
       "      <td>0.0</td>\n",
       "      <td>0.0</td>\n",
       "      <td>0.00000</td>\n",
       "      <td>0.000000</td>\n",
       "      <td>0.0</td>\n",
       "      <td>0.000000</td>\n",
       "      <td>0.000000</td>\n",
       "    </tr>\n",
       "    <tr>\n",
       "      <th>1</th>\n",
       "      <td>4896</td>\n",
       "      <td>0.316276</td>\n",
       "      <td>0.0</td>\n",
       "      <td>0.0</td>\n",
       "      <td>0.0</td>\n",
       "      <td>0.0</td>\n",
       "      <td>0.0</td>\n",
       "      <td>0.093945</td>\n",
       "      <td>0.000000</td>\n",
       "      <td>0.0</td>\n",
       "      <td>...</td>\n",
       "      <td>0.0</td>\n",
       "      <td>0.000000</td>\n",
       "      <td>0.0</td>\n",
       "      <td>0.0</td>\n",
       "      <td>0.0</td>\n",
       "      <td>0.00000</td>\n",
       "      <td>0.000000</td>\n",
       "      <td>0.0</td>\n",
       "      <td>0.367606</td>\n",
       "      <td>0.201159</td>\n",
       "    </tr>\n",
       "    <tr>\n",
       "      <th>2</th>\n",
       "      <td>4897</td>\n",
       "      <td>0.000000</td>\n",
       "      <td>0.0</td>\n",
       "      <td>0.0</td>\n",
       "      <td>0.0</td>\n",
       "      <td>0.0</td>\n",
       "      <td>0.0</td>\n",
       "      <td>0.000000</td>\n",
       "      <td>0.410210</td>\n",
       "      <td>0.0</td>\n",
       "      <td>...</td>\n",
       "      <td>0.0</td>\n",
       "      <td>0.215984</td>\n",
       "      <td>0.0</td>\n",
       "      <td>0.0</td>\n",
       "      <td>0.0</td>\n",
       "      <td>0.02585</td>\n",
       "      <td>0.050794</td>\n",
       "      <td>0.0</td>\n",
       "      <td>0.000000</td>\n",
       "      <td>0.146287</td>\n",
       "    </tr>\n",
       "  </tbody>\n",
       "</table>\n",
       "<p>3 rows × 26 columns</p>\n",
       "</div>"
      ],
      "text/plain": [
       "   doc_id   topic_0  topic_1  topic_2  topic_3  topic_4  topic_5   topic_6  \\\n",
       "0       6  0.000000      0.0      0.0      0.0      0.0      0.0  0.000000   \n",
       "1    4896  0.316276      0.0      0.0      0.0      0.0      0.0  0.093945   \n",
       "2    4897  0.000000      0.0      0.0      0.0      0.0      0.0  0.000000   \n",
       "\n",
       "    topic_7  topic_8  ...  topic_15  topic_16  topic_17  topic_18  topic_19  \\\n",
       "0  0.018403      0.0  ...       0.0  0.845978       0.0       0.0       0.0   \n",
       "1  0.000000      0.0  ...       0.0  0.000000       0.0       0.0       0.0   \n",
       "2  0.410210      0.0  ...       0.0  0.215984       0.0       0.0       0.0   \n",
       "\n",
       "   topic_20  topic_21  topic_22  topic_23  topic_24  \n",
       "0   0.00000  0.000000       0.0  0.000000  0.000000  \n",
       "1   0.00000  0.000000       0.0  0.367606  0.201159  \n",
       "2   0.02585  0.050794       0.0  0.000000  0.146287  \n",
       "\n",
       "[3 rows x 26 columns]"
      ]
     },
     "execution_count": 23,
     "metadata": {},
     "output_type": "execute_result"
    }
   ],
   "source": [
    "\n",
    "\n",
    "topic_matrix.head(3)"
   ]
  },
  {
   "cell_type": "markdown",
   "metadata": {},
   "source": [
    "Прекрасно, мы получили вектора наших новостей! И даже умеем интерпретировать получившиеся темы.\n",
    "\n",
    "Можно двигаться далее"
   ]
  },
  {
   "cell_type": "markdown",
   "metadata": {},
   "source": [
    "### Следующий шаг - векторные представления пользователей"
   ]
  },
  {
   "cell_type": "code",
   "execution_count": 24,
   "metadata": {
    "scrolled": true
   },
   "outputs": [
    {
     "data": {
      "text/html": [
       "<div>\n",
       "<style scoped>\n",
       "    .dataframe tbody tr th:only-of-type {\n",
       "        vertical-align: middle;\n",
       "    }\n",
       "\n",
       "    .dataframe tbody tr th {\n",
       "        vertical-align: top;\n",
       "    }\n",
       "\n",
       "    .dataframe thead th {\n",
       "        text-align: right;\n",
       "    }\n",
       "</style>\n",
       "<table border=\"1\" class=\"dataframe\">\n",
       "  <thead>\n",
       "    <tr style=\"text-align: right;\">\n",
       "      <th></th>\n",
       "      <th>uid</th>\n",
       "      <th>articles</th>\n",
       "    </tr>\n",
       "  </thead>\n",
       "  <tbody>\n",
       "    <tr>\n",
       "      <th>0</th>\n",
       "      <td>u105138</td>\n",
       "      <td>[293672, 293328, 293001, 293622, 293126, 1852]</td>\n",
       "    </tr>\n",
       "    <tr>\n",
       "      <th>1</th>\n",
       "      <td>u108690</td>\n",
       "      <td>[3405, 1739, 2972, 1158, 1599, 322665]</td>\n",
       "    </tr>\n",
       "    <tr>\n",
       "      <th>2</th>\n",
       "      <td>u108339</td>\n",
       "      <td>[1845, 2009, 2356, 1424, 2939, 323389]</td>\n",
       "    </tr>\n",
       "  </tbody>\n",
       "</table>\n",
       "</div>"
      ],
      "text/plain": [
       "       uid                                        articles\n",
       "0  u105138  [293672, 293328, 293001, 293622, 293126, 1852]\n",
       "1  u108690          [3405, 1739, 2972, 1158, 1599, 322665]\n",
       "2  u108339          [1845, 2009, 2356, 1424, 2939, 323389]"
      ]
     },
     "execution_count": 24,
     "metadata": {},
     "output_type": "execute_result"
    }
   ],
   "source": [
    "users.head(3)"
   ]
  },
  {
   "cell_type": "code",
   "execution_count": 25,
   "metadata": {},
   "outputs": [],
   "source": [
    "doc_dict = dict(zip(topic_matrix['doc_id'].values, topic_matrix[['topic_{}'.format(i) for i in range(25)]].values))"
   ]
  },
  {
   "cell_type": "code",
   "execution_count": 26,
   "metadata": {},
   "outputs": [],
   "source": [
    "user_articles_list = users['articles'].iloc[33]\n",
    "\n",
    "def get_user_embedding(user_articles_list):\n",
    "    user_articles_list = eval(user_articles_list)\n",
    "    user_vector = np.array([doc_dict[doc_id] for doc_id in user_articles_list])\n",
    "    user_vector = np.mean(user_vector, 0)\n",
    "    return user_vector"
   ]
  },
  {
   "cell_type": "code",
   "execution_count": 27,
   "metadata": {},
   "outputs": [
    {
     "data": {
      "text/plain": [
       "array([0.00937474, 0.0072952 , 0.01014426, 0.04751633, 0.0401177 ,\n",
       "       0.        , 0.16256706, 0.1869712 , 0.0561282 , 0.        ,\n",
       "       0.00213495, 0.        , 0.00804362, 0.        , 0.        ,\n",
       "       0.00176854, 0.21910009, 0.        , 0.00334023, 0.04079597,\n",
       "       0.        , 0.03727036, 0.101818  , 0.05339785, 0.        ])"
      ]
     },
     "execution_count": 27,
     "metadata": {},
     "output_type": "execute_result"
    }
   ],
   "source": [
    "get_user_embedding(user_articles_list)"
   ]
  },
  {
   "cell_type": "markdown",
   "metadata": {},
   "source": [
    "Интересовался новостями с топиками topic_3, topic_14 (что-то про политику и государство)"
   ]
  },
  {
   "cell_type": "markdown",
   "metadata": {},
   "source": [
    "Теперь получим эмбединги для всех пользователей и проверим их качество на конкретной downstream-задаче"
   ]
  },
  {
   "cell_type": "code",
   "execution_count": 28,
   "metadata": {},
   "outputs": [
    {
     "data": {
      "text/html": [
       "<div>\n",
       "<style scoped>\n",
       "    .dataframe tbody tr th:only-of-type {\n",
       "        vertical-align: middle;\n",
       "    }\n",
       "\n",
       "    .dataframe tbody tr th {\n",
       "        vertical-align: top;\n",
       "    }\n",
       "\n",
       "    .dataframe thead th {\n",
       "        text-align: right;\n",
       "    }\n",
       "</style>\n",
       "<table border=\"1\" class=\"dataframe\">\n",
       "  <thead>\n",
       "    <tr style=\"text-align: right;\">\n",
       "      <th></th>\n",
       "      <th>uid</th>\n",
       "      <th>topic_0</th>\n",
       "      <th>topic_1</th>\n",
       "      <th>topic_2</th>\n",
       "      <th>topic_3</th>\n",
       "      <th>topic_4</th>\n",
       "      <th>topic_5</th>\n",
       "      <th>topic_6</th>\n",
       "      <th>topic_7</th>\n",
       "      <th>topic_8</th>\n",
       "      <th>...</th>\n",
       "      <th>topic_15</th>\n",
       "      <th>topic_16</th>\n",
       "      <th>topic_17</th>\n",
       "      <th>topic_18</th>\n",
       "      <th>topic_19</th>\n",
       "      <th>topic_20</th>\n",
       "      <th>topic_21</th>\n",
       "      <th>topic_22</th>\n",
       "      <th>topic_23</th>\n",
       "      <th>topic_24</th>\n",
       "    </tr>\n",
       "  </thead>\n",
       "  <tbody>\n",
       "    <tr>\n",
       "      <th>0</th>\n",
       "      <td>u105138</td>\n",
       "      <td>0.027120</td>\n",
       "      <td>0.000000</td>\n",
       "      <td>0.000000</td>\n",
       "      <td>0.019359</td>\n",
       "      <td>0.063356</td>\n",
       "      <td>0.023791</td>\n",
       "      <td>0.119297</td>\n",
       "      <td>0.159663</td>\n",
       "      <td>0.025913</td>\n",
       "      <td>...</td>\n",
       "      <td>0.0</td>\n",
       "      <td>0.119230</td>\n",
       "      <td>0.00000</td>\n",
       "      <td>0.072688</td>\n",
       "      <td>0.051438</td>\n",
       "      <td>0.025250</td>\n",
       "      <td>0.003993</td>\n",
       "      <td>0.115563</td>\n",
       "      <td>0.080267</td>\n",
       "      <td>0.007494</td>\n",
       "    </tr>\n",
       "    <tr>\n",
       "      <th>1</th>\n",
       "      <td>u108690</td>\n",
       "      <td>0.014111</td>\n",
       "      <td>0.002517</td>\n",
       "      <td>0.000000</td>\n",
       "      <td>0.034401</td>\n",
       "      <td>0.050810</td>\n",
       "      <td>0.004182</td>\n",
       "      <td>0.140392</td>\n",
       "      <td>0.272910</td>\n",
       "      <td>0.058292</td>\n",
       "      <td>...</td>\n",
       "      <td>0.0</td>\n",
       "      <td>0.142500</td>\n",
       "      <td>0.00000</td>\n",
       "      <td>0.022225</td>\n",
       "      <td>0.084384</td>\n",
       "      <td>0.005902</td>\n",
       "      <td>0.004515</td>\n",
       "      <td>0.072394</td>\n",
       "      <td>0.053911</td>\n",
       "      <td>0.000000</td>\n",
       "    </tr>\n",
       "    <tr>\n",
       "      <th>2</th>\n",
       "      <td>u108339</td>\n",
       "      <td>0.035520</td>\n",
       "      <td>0.001738</td>\n",
       "      <td>0.009327</td>\n",
       "      <td>0.063097</td>\n",
       "      <td>0.107038</td>\n",
       "      <td>0.003360</td>\n",
       "      <td>0.103064</td>\n",
       "      <td>0.062916</td>\n",
       "      <td>0.023695</td>\n",
       "      <td>...</td>\n",
       "      <td>0.0</td>\n",
       "      <td>0.199405</td>\n",
       "      <td>0.00383</td>\n",
       "      <td>0.003172</td>\n",
       "      <td>0.048583</td>\n",
       "      <td>0.000000</td>\n",
       "      <td>0.016983</td>\n",
       "      <td>0.082702</td>\n",
       "      <td>0.186871</td>\n",
       "      <td>0.000000</td>\n",
       "    </tr>\n",
       "  </tbody>\n",
       "</table>\n",
       "<p>3 rows × 26 columns</p>\n",
       "</div>"
      ],
      "text/plain": [
       "       uid   topic_0   topic_1   topic_2   topic_3   topic_4   topic_5  \\\n",
       "0  u105138  0.027120  0.000000  0.000000  0.019359  0.063356  0.023791   \n",
       "1  u108690  0.014111  0.002517  0.000000  0.034401  0.050810  0.004182   \n",
       "2  u108339  0.035520  0.001738  0.009327  0.063097  0.107038  0.003360   \n",
       "\n",
       "    topic_6   topic_7   topic_8  ...  topic_15  topic_16  topic_17  topic_18  \\\n",
       "0  0.119297  0.159663  0.025913  ...       0.0  0.119230   0.00000  0.072688   \n",
       "1  0.140392  0.272910  0.058292  ...       0.0  0.142500   0.00000  0.022225   \n",
       "2  0.103064  0.062916  0.023695  ...       0.0  0.199405   0.00383  0.003172   \n",
       "\n",
       "   topic_19  topic_20  topic_21  topic_22  topic_23  topic_24  \n",
       "0  0.051438  0.025250  0.003993  0.115563  0.080267  0.007494  \n",
       "1  0.084384  0.005902  0.004515  0.072394  0.053911  0.000000  \n",
       "2  0.048583  0.000000  0.016983  0.082702  0.186871  0.000000  \n",
       "\n",
       "[3 rows x 26 columns]"
      ]
     },
     "execution_count": 28,
     "metadata": {},
     "output_type": "execute_result"
    }
   ],
   "source": [
    "user_embeddings = pd.DataFrame([i for i in users['articles'].apply(lambda x: get_user_embedding(x), 1)])\n",
    "user_embeddings.columns = ['topic_{}'.format(i) for i in range(25)]\n",
    "user_embeddings['uid'] = users['uid'].values\n",
    "user_embeddings = user_embeddings[['uid']+['topic_{}'.format(i) for i in range(25)]]\n",
    "user_embeddings.head(3)"
   ]
  },
  {
   "cell_type": "markdown",
   "metadata": {},
   "source": [
    "Датасет готов - можно попробовать обучить модель. Загрузим нашу разметку"
   ]
  },
  {
   "cell_type": "code",
   "execution_count": 29,
   "metadata": {},
   "outputs": [
    {
     "data": {
      "text/html": [
       "<div>\n",
       "<style scoped>\n",
       "    .dataframe tbody tr th:only-of-type {\n",
       "        vertical-align: middle;\n",
       "    }\n",
       "\n",
       "    .dataframe tbody tr th {\n",
       "        vertical-align: top;\n",
       "    }\n",
       "\n",
       "    .dataframe thead th {\n",
       "        text-align: right;\n",
       "    }\n",
       "</style>\n",
       "<table border=\"1\" class=\"dataframe\">\n",
       "  <thead>\n",
       "    <tr style=\"text-align: right;\">\n",
       "      <th></th>\n",
       "      <th>uid</th>\n",
       "      <th>churn</th>\n",
       "    </tr>\n",
       "  </thead>\n",
       "  <tbody>\n",
       "    <tr>\n",
       "      <th>0</th>\n",
       "      <td>u107120</td>\n",
       "      <td>0</td>\n",
       "    </tr>\n",
       "    <tr>\n",
       "      <th>1</th>\n",
       "      <td>u102277</td>\n",
       "      <td>0</td>\n",
       "    </tr>\n",
       "    <tr>\n",
       "      <th>2</th>\n",
       "      <td>u102444</td>\n",
       "      <td>0</td>\n",
       "    </tr>\n",
       "  </tbody>\n",
       "</table>\n",
       "</div>"
      ],
      "text/plain": [
       "       uid  churn\n",
       "0  u107120      0\n",
       "1  u102277      0\n",
       "2  u102444      0"
      ]
     },
     "execution_count": 29,
     "metadata": {},
     "output_type": "execute_result"
    }
   ],
   "source": [
    "target = pd.read_csv(\"users_churn.csv\")\n",
    "target.head(3)"
   ]
  },
  {
   "cell_type": "code",
   "execution_count": 30,
   "metadata": {},
   "outputs": [
    {
     "data": {
      "text/html": [
       "<div>\n",
       "<style scoped>\n",
       "    .dataframe tbody tr th:only-of-type {\n",
       "        vertical-align: middle;\n",
       "    }\n",
       "\n",
       "    .dataframe tbody tr th {\n",
       "        vertical-align: top;\n",
       "    }\n",
       "\n",
       "    .dataframe thead th {\n",
       "        text-align: right;\n",
       "    }\n",
       "</style>\n",
       "<table border=\"1\" class=\"dataframe\">\n",
       "  <thead>\n",
       "    <tr style=\"text-align: right;\">\n",
       "      <th></th>\n",
       "      <th>uid</th>\n",
       "      <th>topic_0</th>\n",
       "      <th>topic_1</th>\n",
       "      <th>topic_2</th>\n",
       "      <th>topic_3</th>\n",
       "      <th>topic_4</th>\n",
       "      <th>topic_5</th>\n",
       "      <th>topic_6</th>\n",
       "      <th>topic_7</th>\n",
       "      <th>topic_8</th>\n",
       "      <th>...</th>\n",
       "      <th>topic_16</th>\n",
       "      <th>topic_17</th>\n",
       "      <th>topic_18</th>\n",
       "      <th>topic_19</th>\n",
       "      <th>topic_20</th>\n",
       "      <th>topic_21</th>\n",
       "      <th>topic_22</th>\n",
       "      <th>topic_23</th>\n",
       "      <th>topic_24</th>\n",
       "      <th>churn</th>\n",
       "    </tr>\n",
       "  </thead>\n",
       "  <tbody>\n",
       "    <tr>\n",
       "      <th>0</th>\n",
       "      <td>u105138</td>\n",
       "      <td>0.027120</td>\n",
       "      <td>0.000000</td>\n",
       "      <td>0.000000</td>\n",
       "      <td>0.019359</td>\n",
       "      <td>0.063356</td>\n",
       "      <td>0.023791</td>\n",
       "      <td>0.119297</td>\n",
       "      <td>0.159663</td>\n",
       "      <td>0.025913</td>\n",
       "      <td>...</td>\n",
       "      <td>0.119230</td>\n",
       "      <td>0.00000</td>\n",
       "      <td>0.072688</td>\n",
       "      <td>0.051438</td>\n",
       "      <td>0.025250</td>\n",
       "      <td>0.003993</td>\n",
       "      <td>0.115563</td>\n",
       "      <td>0.080267</td>\n",
       "      <td>0.007494</td>\n",
       "      <td>0</td>\n",
       "    </tr>\n",
       "    <tr>\n",
       "      <th>1</th>\n",
       "      <td>u108690</td>\n",
       "      <td>0.014111</td>\n",
       "      <td>0.002517</td>\n",
       "      <td>0.000000</td>\n",
       "      <td>0.034401</td>\n",
       "      <td>0.050810</td>\n",
       "      <td>0.004182</td>\n",
       "      <td>0.140392</td>\n",
       "      <td>0.272910</td>\n",
       "      <td>0.058292</td>\n",
       "      <td>...</td>\n",
       "      <td>0.142500</td>\n",
       "      <td>0.00000</td>\n",
       "      <td>0.022225</td>\n",
       "      <td>0.084384</td>\n",
       "      <td>0.005902</td>\n",
       "      <td>0.004515</td>\n",
       "      <td>0.072394</td>\n",
       "      <td>0.053911</td>\n",
       "      <td>0.000000</td>\n",
       "      <td>1</td>\n",
       "    </tr>\n",
       "    <tr>\n",
       "      <th>2</th>\n",
       "      <td>u108339</td>\n",
       "      <td>0.035520</td>\n",
       "      <td>0.001738</td>\n",
       "      <td>0.009327</td>\n",
       "      <td>0.063097</td>\n",
       "      <td>0.107038</td>\n",
       "      <td>0.003360</td>\n",
       "      <td>0.103064</td>\n",
       "      <td>0.062916</td>\n",
       "      <td>0.023695</td>\n",
       "      <td>...</td>\n",
       "      <td>0.199405</td>\n",
       "      <td>0.00383</td>\n",
       "      <td>0.003172</td>\n",
       "      <td>0.048583</td>\n",
       "      <td>0.000000</td>\n",
       "      <td>0.016983</td>\n",
       "      <td>0.082702</td>\n",
       "      <td>0.186871</td>\n",
       "      <td>0.000000</td>\n",
       "      <td>1</td>\n",
       "    </tr>\n",
       "  </tbody>\n",
       "</table>\n",
       "<p>3 rows × 27 columns</p>\n",
       "</div>"
      ],
      "text/plain": [
       "       uid   topic_0   topic_1   topic_2   topic_3   topic_4   topic_5  \\\n",
       "0  u105138  0.027120  0.000000  0.000000  0.019359  0.063356  0.023791   \n",
       "1  u108690  0.014111  0.002517  0.000000  0.034401  0.050810  0.004182   \n",
       "2  u108339  0.035520  0.001738  0.009327  0.063097  0.107038  0.003360   \n",
       "\n",
       "    topic_6   topic_7   topic_8  ...  topic_16  topic_17  topic_18  topic_19  \\\n",
       "0  0.119297  0.159663  0.025913  ...  0.119230   0.00000  0.072688  0.051438   \n",
       "1  0.140392  0.272910  0.058292  ...  0.142500   0.00000  0.022225  0.084384   \n",
       "2  0.103064  0.062916  0.023695  ...  0.199405   0.00383  0.003172  0.048583   \n",
       "\n",
       "   topic_20  topic_21  topic_22  topic_23  topic_24  churn  \n",
       "0  0.025250  0.003993  0.115563  0.080267  0.007494      0  \n",
       "1  0.005902  0.004515  0.072394  0.053911  0.000000      1  \n",
       "2  0.000000  0.016983  0.082702  0.186871  0.000000      1  \n",
       "\n",
       "[3 rows x 27 columns]"
      ]
     },
     "execution_count": 30,
     "metadata": {},
     "output_type": "execute_result"
    }
   ],
   "source": [
    "X = pd.merge(user_embeddings, target, 'left')\n",
    "X.head(3)"
   ]
  },
  {
   "cell_type": "code",
   "execution_count": 31,
   "metadata": {},
   "outputs": [],
   "source": [
    "from sklearn.linear_model import LogisticRegression\n",
    "from sklearn.model_selection import train_test_split\n",
    "#import itertools\n",
    "\n",
    "import matplotlib.pyplot as plt\n",
    "\n",
    "%matplotlib inline"
   ]
  },
  {
   "cell_type": "code",
   "execution_count": 32,
   "metadata": {},
   "outputs": [],
   "source": [
    "#разделим данные на train/test\n",
    "X_train, X_test, y_train, y_test = train_test_split(X[['topic_{}'.format(i) for i in range(25)]], \n",
    "                                                    X['churn'], random_state=0)"
   ]
  },
  {
   "cell_type": "code",
   "execution_count": 33,
   "metadata": {},
   "outputs": [
    {
     "data": {
      "text/plain": [
       "LogisticRegression()"
      ]
     },
     "execution_count": 33,
     "metadata": {},
     "output_type": "execute_result"
    }
   ],
   "source": [
    "logreg = LogisticRegression()\n",
    "#обучим \n",
    "logreg.fit(X_train, y_train)"
   ]
  },
  {
   "cell_type": "code",
   "execution_count": 34,
   "metadata": {},
   "outputs": [
    {
     "data": {
      "text/plain": [
       "array([0.23732878, 0.02932319, 0.45418703, 0.3167979 , 0.03520261,\n",
       "       0.09730652, 0.1390782 , 0.11786006, 0.0677778 , 0.12898331])"
      ]
     },
     "execution_count": 34,
     "metadata": {},
     "output_type": "execute_result"
    }
   ],
   "source": [
    "#наши прогнозы для тестовой выборки\n",
    "preds = logreg.predict_proba(X_test)[:, 1]\n",
    "preds[:10]"
   ]
  },
  {
   "cell_type": "code",
   "execution_count": 35,
   "metadata": {},
   "outputs": [],
   "source": [
    "from sklearn.metrics import f1_score, roc_auc_score, precision_score, classification_report, precision_recall_curve, confusion_matrix"
   ]
  },
  {
   "cell_type": "markdown",
   "metadata": {},
   "source": [
    "### Рассчитаем Precision, Recall, F_score"
   ]
  },
  {
   "cell_type": "code",
   "execution_count": 36,
   "metadata": {},
   "outputs": [
    {
     "name": "stdout",
     "output_type": "stream",
     "text": [
      "Best Threshold=0.215638, F-Score=0.677, Precision=0.582, Recall=0.808\n"
     ]
    }
   ],
   "source": [
    "precision, recall, thresholds = precision_recall_curve(y_test, preds)\n",
    "fscore = (2 * precision * recall) / (precision + recall)\n",
    "# locate the index of the largest f score\n",
    "ix = np.argmax(fscore)\n",
    "print('Best Threshold=%f, F-Score=%.3f, Precision=%.3f, Recall=%.3f' % (thresholds[ix], \n",
    "                                                                        fscore[ix],\n",
    "                                                                        precision[ix],\n",
    "                                                                        recall[ix]))"
   ]
  },
  {
   "cell_type": "code",
   "execution_count": 37,
   "metadata": {},
   "outputs": [],
   "source": [
    "def plot_confusion_matrix(cm, classes,\n",
    "                          normalize=False,\n",
    "                          title='Confusion matrix',\n",
    "                          cmap=plt.cm.Blues):\n",
    "    \"\"\"\n",
    "    This function prints and plots the confusion matrix.\n",
    "    Normalization can be applied by setting `normalize=True`.\n",
    "    \"\"\"\n",
    "    plt.imshow(cm, interpolation='nearest', cmap=cmap)\n",
    "    plt.title(title)\n",
    "    plt.colorbar()\n",
    "    tick_marks = np.arange(len(classes))\n",
    "    plt.xticks(tick_marks, classes, rotation=45)\n",
    "    plt.yticks(tick_marks, classes)\n",
    "\n",
    "    if normalize:\n",
    "        cm = cm.astype('float') / cm.sum(axis=1)[:, np.newaxis]\n",
    "        print(\"Normalized confusion matrix\")\n",
    "    else:\n",
    "        print('Confusion matrix, without normalization')\n",
    "\n",
    "    print(cm)\n",
    "\n",
    "    thresh = cm.max() / 2.\n",
    "    for i, j in itertools.product(range(cm.shape[0]), range(cm.shape[1])):\n",
    "        plt.text(j, i, cm[i, j],\n",
    "                 horizontalalignment=\"center\",\n",
    "                 color=\"white\" if cm[i, j] > thresh else \"black\")\n",
    "\n",
    "    plt.tight_layout()\n",
    "    plt.ylabel('True label')\n",
    "    plt.xlabel('Predicted label')"
   ]
  },
  {
   "cell_type": "code",
   "execution_count": 38,
   "metadata": {},
   "outputs": [],
   "source": [
    "import itertools"
   ]
  },
  {
   "cell_type": "code",
   "execution_count": 39,
   "metadata": {},
   "outputs": [
    {
     "name": "stdout",
     "output_type": "stream",
     "text": [
      "Confusion matrix, without normalization\n",
      "[[1613  142]\n",
      " [  48  197]]\n"
     ]
    },
    {
     "data": {
      "image/png": "[encoded data removed]",
      "text/plain": [
       "<Figure size 720x576 with 2 Axes>"
      ]
     },
     "metadata": {
      "needs_background": "light"
     },
     "output_type": "display_data"
    }
   ],
   "source": [
    "#мы уже нашли ранее \"оптимальный\" порог, когда максимизировали f_score\n",
    "font = {'size' : 15}\n",
    "\n",
    "plt.rc('font', **font)\n",
    "\n",
    "cnf_matrix = confusion_matrix(y_test, preds>thresholds[ix])\n",
    "plt.figure(figsize=(10, 8))\n",
    "plot_confusion_matrix(cnf_matrix, classes=['Non-Churn', 'churn'],\n",
    "                      title='Confusion matrix')\n",
    "plt.savefig(\"conf_matrix.png\")\n",
    "plt.show()"
   ]
  },
  {
   "cell_type": "code",
   "execution_count": 40,
   "metadata": {},
   "outputs": [
    {
     "data": {
      "text/plain": [
       "0.9474597360311646"
      ]
     },
     "execution_count": 40,
     "metadata": {},
     "output_type": "execute_result"
    }
   ],
   "source": [
    "roc_auc_score(y_test, preds)"
   ]
  },
  {
   "cell_type": "markdown",
   "metadata": {},
   "source": [
    "В целом мы видим, что получившиеся векторные представления содержат какой-то сигнал и позволяют решать нашу прикладную задачу. "
   ]
  },
  {
   "cell_type": "markdown",
   "metadata": {},
   "source": [
    "# Домашнее задание"
   ]
  },
  {
   "cell_type": "markdown",
   "metadata": {},
   "source": [
    "1. Самостоятельно разобраться с тем, что такое tfidf (документация https://scikit-learn.org/stable/modules/generated/sklearn.feature_extraction.text.TfidfVectorizer.html и еще - https://scikit-learn.org/stable/modules/feature_extraction.html#text-feature-extraction)\n",
    "2. Модифицировать код функции get_user_embedding таким образом, чтобы считалось не среднее (как в примере np.mean), а медиана. Применить такое преобразование к данным, обучить модель прогнозирования оттока и посчитать метрики качества и сохранить их: roc auc, precision/recall/f_score (для 3 последних - подобрать оптимальный порог с помощью precision_recall_curve, как это делалось на уроке)\n",
    "3. Повторить п.2, но используя уже не медиану, а max\n",
    "4. (опциональное, если очень хочется) Воспользовавшись полученными знаниями из п.1, повторить пункт 2, но уже взвешивая новости по tfidf (подсказка: нужно получить веса-коэффициенты для каждого документа. Не все документы одинаково информативны и несут какой-то положительный сигнал). Подсказка 2 - нужен именно idf, как вес.\n",
    "5. Сформировать на выходе единую таблицу, сравнивающую качество 3 разных метода получения эмбедингов пользователей: mean, median, max, idf_mean по метрикам roc_auc, precision, recall, f_score\n",
    "6. Сделать самостоятельные выводы и предположения о том, почему тот или ной способ оказался эффективнее остальных"
   ]
  },
  {
   "cell_type": "code",
   "execution_count": 41,
   "metadata": {},
   "outputs": [],
   "source": [
    "def get_user_embedding_median(user_articles_list):\n",
    "    user_articles_list = eval(user_articles_list)\n",
    "    user_vector = np.array([doc_dict[doc_id] for doc_id in user_articles_list])\n",
    "    user_vector = np.median(user_vector, 0)\n",
    "    return user_vector"
   ]
  },
  {
   "cell_type": "code",
   "execution_count": 42,
   "metadata": {},
   "outputs": [],
   "source": [
    "def get_user_embedding_max(user_articles_list):\n",
    "    user_articles_list = eval(user_articles_list)\n",
    "    user_vector = np.array([doc_dict[doc_id] for doc_id in user_articles_list])\n",
    "    user_vector = np.max(user_vector, 0)\n",
    "    return user_vector"
   ]
  },
  {
   "cell_type": "code",
   "execution_count": 43,
   "metadata": {},
   "outputs": [],
   "source": [
    "def get_user_embedding_idf_mean(user_articles_list):\n",
    "    user_articles_list = eval(user_articles_list)\n",
    "    user_vector = np.array([tp[doc_id] for doc_id in user_articles_list])\n",
    "    user_vector = np.max(user_vector, 0)\n",
    "    return user_vector"
   ]
  },
  {
   "cell_type": "code",
   "execution_count": 44,
   "metadata": {},
   "outputs": [],
   "source": [
    "def get_user_embedding_df(fun):\n",
    "    user_embeddings = pd.DataFrame([i for i in users['articles'].apply(fun, 1)])\n",
    "    user_embeddings.columns = ['topic_{}'.format(i) for i in range(25)]\n",
    "    user_embeddings['uid'] = users['uid'].values\n",
    "    user_embeddings = user_embeddings[['uid']+['topic_{}'.format(i) for i in range(25)]]\n",
    "    return user_embeddings\n"
   ]
  },
  {
   "cell_type": "code",
   "execution_count": 45,
   "metadata": {},
   "outputs": [],
   "source": [
    "def test_result_learning(fun):\n",
    "    user_embeddings = get_user_embedding_df(fun)\n",
    "    X = pd.merge(user_embeddings, target, 'left')\n",
    "    X_train, X_test, y_train, y_test = train_test_split(X[['topic_{}'.format(i) for i in range(25)]], \n",
    "                                                    X['churn'], random_state=0)\n",
    "    logreg = LogisticRegression()\n",
    "    logreg.fit(X_train, y_train)\n",
    "    preds = logreg.predict_proba(X_test)[:, 1]\n",
    "    precision, recall, thresholds = precision_recall_curve(y_test, preds)\n",
    "    fscore = (2 * precision * recall) / (precision + recall)\n",
    "    ix = np.argmax(fscore)\n",
    "    print(f'Best Threshold={thresholds[ix]}, F-Score={fscore[ix]}, Precision={precision[ix]}, Recall={recall[ix]}')\n",
    "    font = {'size' : 15}\n",
    "    plt.rc('font', **font)\n",
    "    cnf_matrix = confusion_matrix(y_test, preds>thresholds[ix])\n",
    "    plt.figure(figsize=(10, 8))\n",
    "    plot_confusion_matrix(cnf_matrix, classes=['Non-Churn', 'churn'],\n",
    "                      title='Confusion matrix')\n",
    "    plt.savefig(\"conf_matrix.png\")\n",
    "    plt.show()\n",
    "    print(f'auc - {roc_auc_score(y_test, preds)}')\n",
    "    return roc_auc_score(y_test, preds),fscore[ix],precision[ix],recall[ix]\n",
    "                                                                      \n",
    "    \n",
    "    "
   ]
  },
  {
   "cell_type": "code",
   "execution_count": null,
   "metadata": {},
   "outputs": [],
   "source": []
  },
  {
   "cell_type": "code",
   "execution_count": 46,
   "metadata": {},
   "outputs": [],
   "source": [
    "result = {}"
   ]
  },
  {
   "cell_type": "code",
   "execution_count": 47,
   "metadata": {},
   "outputs": [
    {
     "name": "stdout",
     "output_type": "stream",
     "text": [
      "Best Threshold=0.21563780827919005, F-Score=0.676923076923077, Precision=0.5823529411764706, Recall=0.8081632653061225\n",
      "Confusion matrix, without normalization\n",
      "[[1613  142]\n",
      " [  48  197]]\n"
     ]
    },
    {
     "data": {
      "image/png": "[encoded data removed]",
      "text/plain": [
       "<Figure size 720x576 with 2 Axes>"
      ]
     },
     "metadata": {
      "needs_background": "light"
     },
     "output_type": "display_data"
    },
    {
     "name": "stdout",
     "output_type": "stream",
     "text": [
      "auc - 0.9474597360311646\n"
     ]
    }
   ],
   "source": [
    "# Результат на вебинаре\n",
    "result['mean'] =test_result_learning(get_user_embedding)"
   ]
  },
  {
   "cell_type": "code",
   "execution_count": 48,
   "metadata": {
    "scrolled": false
   },
   "outputs": [
    {
     "name": "stdout",
     "output_type": "stream",
     "text": [
      "Best Threshold=0.3012221654370576, F-Score=0.7907949790794978, Precision=0.8111587982832618, Recall=0.7714285714285715\n",
      "Confusion matrix, without normalization\n",
      "[[1711   44]\n",
      " [  57  188]]\n"
     ]
    },
    {
     "data": {
      "image/png": "[encoded data removed]",
      "text/plain": [
       "<Figure size 720x576 with 2 Axes>"
      ]
     },
     "metadata": {
      "needs_background": "light"
     },
     "output_type": "display_data"
    },
    {
     "name": "stdout",
     "output_type": "stream",
     "text": [
      "auc - 0.9776452119309262\n"
     ]
    }
   ],
   "source": [
    "# Результат с медианной\n",
    "result['median']  = test_result_learning(get_user_embedding_median)"
   ]
  },
  {
   "cell_type": "code",
   "execution_count": 49,
   "metadata": {},
   "outputs": [
    {
     "name": "stdout",
     "output_type": "stream",
     "text": [
      "Best Threshold=0.3417978664500293, F-Score=0.784394250513347, Precision=0.7892561983471075, Recall=0.7795918367346939\n",
      "Confusion matrix, without normalization\n",
      "[[1704   51]\n",
      " [  55  190]]\n"
     ]
    },
    {
     "data": {
      "image/png": "[encoded data removed]",
      "text/plain": [
       "<Figure size 720x576 with 2 Axes>"
      ]
     },
     "metadata": {
      "needs_background": "light"
     },
     "output_type": "display_data"
    },
    {
     "name": "stdout",
     "output_type": "stream",
     "text": [
      "auc - 0.9683446712018141\n"
     ]
    }
   ],
   "source": [
    "# Результат с max\n",
    "result['max'] = test_result_learning(get_user_embedding_max)"
   ]
  },
  {
   "cell_type": "code",
   "execution_count": 50,
   "metadata": {},
   "outputs": [],
   "source": [
    "res = pd.DataFrame(result)"
   ]
  },
  {
   "cell_type": "code",
   "execution_count": 51,
   "metadata": {},
   "outputs": [],
   "source": [
    "res.index = ['roc_auc','f1_score','precision','recall']"
   ]
  },
  {
   "cell_type": "code",
   "execution_count": 52,
   "metadata": {},
   "outputs": [
    {
     "data": {
      "text/html": [
       "<div>\n",
       "<style scoped>\n",
       "    .dataframe tbody tr th:only-of-type {\n",
       "        vertical-align: middle;\n",
       "    }\n",
       "\n",
       "    .dataframe tbody tr th {\n",
       "        vertical-align: top;\n",
       "    }\n",
       "\n",
       "    .dataframe thead th {\n",
       "        text-align: right;\n",
       "    }\n",
       "</style>\n",
       "<table border=\"1\" class=\"dataframe\">\n",
       "  <thead>\n",
       "    <tr style=\"text-align: right;\">\n",
       "      <th></th>\n",
       "      <th>mean</th>\n",
       "      <th>median</th>\n",
       "      <th>max</th>\n",
       "    </tr>\n",
       "  </thead>\n",
       "  <tbody>\n",
       "    <tr>\n",
       "      <th>roc_auc</th>\n",
       "      <td>0.947460</td>\n",
       "      <td>0.977645</td>\n",
       "      <td>0.968345</td>\n",
       "    </tr>\n",
       "    <tr>\n",
       "      <th>f1_score</th>\n",
       "      <td>0.676923</td>\n",
       "      <td>0.790795</td>\n",
       "      <td>0.784394</td>\n",
       "    </tr>\n",
       "    <tr>\n",
       "      <th>precision</th>\n",
       "      <td>0.582353</td>\n",
       "      <td>0.811159</td>\n",
       "      <td>0.789256</td>\n",
       "    </tr>\n",
       "    <tr>\n",
       "      <th>recall</th>\n",
       "      <td>0.808163</td>\n",
       "      <td>0.771429</td>\n",
       "      <td>0.779592</td>\n",
       "    </tr>\n",
       "  </tbody>\n",
       "</table>\n",
       "</div>"
      ],
      "text/plain": [
       "               mean    median       max\n",
       "roc_auc    0.947460  0.977645  0.968345\n",
       "f1_score   0.676923  0.790795  0.784394\n",
       "precision  0.582353  0.811159  0.789256\n",
       "recall     0.808163  0.771429  0.779592"
      ]
     },
     "execution_count": 52,
     "metadata": {},
     "output_type": "execute_result"
    }
   ],
   "source": [
    "res"
   ]
  },
  {
   "cell_type": "markdown",
   "metadata": {},
   "source": [
    "Как видно при медиане показатели улучшились, а при использовании max еще более улучшились"
   ]
  },
  {
   "cell_type": "markdown",
   "metadata": {},
   "source": [
    "# Эксперименты с  Idf"
   ]
  },
  {
   "cell_type": "code",
   "execution_count": 53,
   "metadata": {},
   "outputs": [],
   "source": [
    "from sklearn.feature_extraction.text import TfidfVectorizer"
   ]
  },
  {
   "cell_type": "code",
   "execution_count": 54,
   "metadata": {},
   "outputs": [],
   "source": [
    "tfidf = TfidfVectorizer()"
   ]
  },
  {
   "cell_type": "code",
   "execution_count": 55,
   "metadata": {},
   "outputs": [],
   "source": [
    "tp = pd.DataFrame()"
   ]
  },
  {
   "cell_type": "code",
   "execution_count": 56,
   "metadata": {},
   "outputs": [],
   "source": [
    "tp['docs_id']=news['doc_id']"
   ]
  },
  {
   "cell_type": "code",
   "execution_count": 57,
   "metadata": {},
   "outputs": [],
   "source": [
    "my_tfidf = tfidf.fit_transform(news['title'].apply(lambda x: ', '.join(x),1))"
   ]
  },
  {
   "cell_type": "code",
   "execution_count": 58,
   "metadata": {},
   "outputs": [
    {
     "name": "stdout",
     "output_type": "stream",
     "text": [
      "Wall time: 41.7 s\n"
     ]
    }
   ],
   "source": [
    "%%time\n",
    "my_vector=[]\n",
    "for i in my_tfidf:\n",
    "    a=np.where(i.toarray()!=0)[1]\n",
    "    my_vector.append(tfidf.idf_[a].mean())\n",
    "    \n",
    "    "
   ]
  },
  {
   "cell_type": "code",
   "execution_count": 59,
   "metadata": {},
   "outputs": [],
   "source": [
    "tp['weight'] = my_vector"
   ]
  },
  {
   "cell_type": "code",
   "execution_count": 60,
   "metadata": {},
   "outputs": [
    {
     "data": {
      "text/html": [
       "<div>\n",
       "<style scoped>\n",
       "    .dataframe tbody tr th:only-of-type {\n",
       "        vertical-align: middle;\n",
       "    }\n",
       "\n",
       "    .dataframe tbody tr th {\n",
       "        vertical-align: top;\n",
       "    }\n",
       "\n",
       "    .dataframe thead th {\n",
       "        text-align: right;\n",
       "    }\n",
       "</style>\n",
       "<table border=\"1\" class=\"dataframe\">\n",
       "  <thead>\n",
       "    <tr style=\"text-align: right;\">\n",
       "      <th></th>\n",
       "      <th>docs_id</th>\n",
       "      <th>weight</th>\n",
       "    </tr>\n",
       "  </thead>\n",
       "  <tbody>\n",
       "    <tr>\n",
       "      <th>0</th>\n",
       "      <td>6</td>\n",
       "      <td>4.883926</td>\n",
       "    </tr>\n",
       "    <tr>\n",
       "      <th>1</th>\n",
       "      <td>4896</td>\n",
       "      <td>4.965397</td>\n",
       "    </tr>\n",
       "    <tr>\n",
       "      <th>2</th>\n",
       "      <td>4897</td>\n",
       "      <td>4.681600</td>\n",
       "    </tr>\n",
       "    <tr>\n",
       "      <th>3</th>\n",
       "      <td>4898</td>\n",
       "      <td>4.641682</td>\n",
       "    </tr>\n",
       "    <tr>\n",
       "      <th>4</th>\n",
       "      <td>4899</td>\n",
       "      <td>4.975748</td>\n",
       "    </tr>\n",
       "    <tr>\n",
       "      <th>...</th>\n",
       "      <td>...</td>\n",
       "      <td>...</td>\n",
       "    </tr>\n",
       "    <tr>\n",
       "      <th>26995</th>\n",
       "      <td>513441</td>\n",
       "      <td>4.381100</td>\n",
       "    </tr>\n",
       "    <tr>\n",
       "      <th>26996</th>\n",
       "      <td>513442</td>\n",
       "      <td>4.444499</td>\n",
       "    </tr>\n",
       "    <tr>\n",
       "      <th>26997</th>\n",
       "      <td>513443</td>\n",
       "      <td>4.431585</td>\n",
       "    </tr>\n",
       "    <tr>\n",
       "      <th>26998</th>\n",
       "      <td>513444</td>\n",
       "      <td>4.327533</td>\n",
       "    </tr>\n",
       "    <tr>\n",
       "      <th>26999</th>\n",
       "      <td>513445</td>\n",
       "      <td>4.826746</td>\n",
       "    </tr>\n",
       "  </tbody>\n",
       "</table>\n",
       "<p>27000 rows × 2 columns</p>\n",
       "</div>"
      ],
      "text/plain": [
       "       docs_id    weight\n",
       "0            6  4.883926\n",
       "1         4896  4.965397\n",
       "2         4897  4.681600\n",
       "3         4898  4.641682\n",
       "4         4899  4.975748\n",
       "...        ...       ...\n",
       "26995   513441  4.381100\n",
       "26996   513442  4.444499\n",
       "26997   513443  4.431585\n",
       "26998   513444  4.327533\n",
       "26999   513445  4.826746\n",
       "\n",
       "[27000 rows x 2 columns]"
      ]
     },
     "execution_count": 60,
     "metadata": {},
     "output_type": "execute_result"
    }
   ],
   "source": [
    "tp"
   ]
  },
  {
   "cell_type": "code",
   "execution_count": 61,
   "metadata": {},
   "outputs": [
    {
     "data": {
      "text/plain": [
       "count    27000.000000\n",
       "mean         4.708674\n",
       "std          0.479455\n",
       "min          3.298814\n",
       "25%          4.401234\n",
       "50%          4.651205\n",
       "75%          4.968503\n",
       "max          8.053602\n",
       "Name: weight, dtype: float64"
      ]
     },
     "execution_count": 61,
     "metadata": {},
     "output_type": "execute_result"
    }
   ],
   "source": [
    "tp['weight'].describe()"
   ]
  },
  {
   "cell_type": "code",
   "execution_count": 62,
   "metadata": {},
   "outputs": [],
   "source": [
    "users_ = users.copy()"
   ]
  },
  {
   "cell_type": "code",
   "execution_count": 63,
   "metadata": {},
   "outputs": [],
   "source": [
    "a=list(map(lambda x:eval(x),users['articles'].values))"
   ]
  },
  {
   "cell_type": "code",
   "execution_count": 64,
   "metadata": {},
   "outputs": [],
   "source": [
    "users_['articles'] = a"
   ]
  },
  {
   "cell_type": "code",
   "execution_count": 65,
   "metadata": {},
   "outputs": [
    {
     "data": {
      "text/plain": [
       "0       [293672, 293328, 293001, 293622, 293126, 1852]\n",
       "1               [3405, 1739, 2972, 1158, 1599, 322665]\n",
       "2               [1845, 2009, 2356, 1424, 2939, 323389]\n",
       "3               [5933, 6186, 5055, 6977, 5206, 488389]\n",
       "4                [707, 1144, 2532, 2928, 3133, 324592]\n",
       "                             ...                      \n",
       "7995     [323918, 323362, 323704, 323452, 324291, 251]\n",
       "7996            [5532, 5860, 7755, 7140, 5182, 488337]\n",
       "7997    [322811, 323898, 321858, 323345, 323491, 2193]\n",
       "7998            [5436, 6092, 6891, 7045, 5320, 487379]\n",
       "7999    [294096, 293759, 294178, 293544, 293921, 2909]\n",
       "Name: articles, Length: 8000, dtype: object"
      ]
     },
     "execution_count": 65,
     "metadata": {},
     "output_type": "execute_result"
    }
   ],
   "source": [
    "users_['articles']"
   ]
  },
  {
   "cell_type": "code",
   "execution_count": 66,
   "metadata": {},
   "outputs": [],
   "source": [
    "users_['articles_ratio'] = users_['articles'].apply(lambda x: np.array([tp[tp['docs_id']==i]['weight'].values[0]  for i in x]))\n"
   ]
  },
  {
   "cell_type": "code",
   "execution_count": 67,
   "metadata": {},
   "outputs": [
    {
     "data": {
      "text/plain": [
       "0       [4.013690172450131, 5.240918028627772, 4.12346...\n",
       "1       [4.415708276944557, 4.815370600866168, 4.70097...\n",
       "2       [5.059285827675876, 4.7418763327790145, 4.5937...\n",
       "3       [4.709798414506177, 5.605671794967433, 4.98582...\n",
       "4       [4.613264566877303, 4.813505653558882, 5.21980...\n",
       "                              ...                        \n",
       "7995    [4.062011248159626, 4.468812254683797, 4.53267...\n",
       "7996    [5.419337771687079, 5.066623625225241, 4.81321...\n",
       "7997    [4.153632356951625, 4.142233019987925, 4.26663...\n",
       "7998    [5.201370089849887, 5.08649834511191, 5.046570...\n",
       "7999    [5.082179584862771, 5.135931110307721, 5.59316...\n",
       "Name: articles_ratio, Length: 8000, dtype: object"
      ]
     },
     "execution_count": 67,
     "metadata": {},
     "output_type": "execute_result"
    }
   ],
   "source": [
    "users_['articles_ratio']"
   ]
  },
  {
   "cell_type": "code",
   "execution_count": 68,
   "metadata": {
    "scrolled": true
   },
   "outputs": [],
   "source": [
    "users_['articles_ratio_mean'] = users_['articles_ratio'].apply(lambda x:x.mean())"
   ]
  },
  {
   "cell_type": "code",
   "execution_count": 69,
   "metadata": {},
   "outputs": [],
   "source": [
    "users_['articles_ratio_max'] = users_['articles_ratio'].apply(lambda x:x.max())"
   ]
  },
  {
   "cell_type": "code",
   "execution_count": 70,
   "metadata": {},
   "outputs": [],
   "source": [
    "users_['articles_ratio_median'] = users_['articles_ratio'].apply(lambda x:np.median(x))"
   ]
  },
  {
   "cell_type": "code",
   "execution_count": 71,
   "metadata": {},
   "outputs": [
    {
     "data": {
      "text/html": [
       "<div>\n",
       "<style scoped>\n",
       "    .dataframe tbody tr th:only-of-type {\n",
       "        vertical-align: middle;\n",
       "    }\n",
       "\n",
       "    .dataframe tbody tr th {\n",
       "        vertical-align: top;\n",
       "    }\n",
       "\n",
       "    .dataframe thead th {\n",
       "        text-align: right;\n",
       "    }\n",
       "</style>\n",
       "<table border=\"1\" class=\"dataframe\">\n",
       "  <thead>\n",
       "    <tr style=\"text-align: right;\">\n",
       "      <th></th>\n",
       "      <th>uid</th>\n",
       "      <th>articles</th>\n",
       "      <th>articles_ratio</th>\n",
       "      <th>articles_ratio_mean</th>\n",
       "      <th>articles_ratio_max</th>\n",
       "      <th>articles_ratio_median</th>\n",
       "    </tr>\n",
       "  </thead>\n",
       "  <tbody>\n",
       "    <tr>\n",
       "      <th>0</th>\n",
       "      <td>u105138</td>\n",
       "      <td>[293672, 293328, 293001, 293622, 293126, 1852]</td>\n",
       "      <td>[4.013690172450131, 5.240918028627772, 4.12346...</td>\n",
       "      <td>4.662899</td>\n",
       "      <td>5.289591</td>\n",
       "      <td>4.654866</td>\n",
       "    </tr>\n",
       "    <tr>\n",
       "      <th>1</th>\n",
       "      <td>u108690</td>\n",
       "      <td>[3405, 1739, 2972, 1158, 1599, 322665]</td>\n",
       "      <td>[4.415708276944557, 4.815370600866168, 4.70097...</td>\n",
       "      <td>4.565702</td>\n",
       "      <td>4.815371</td>\n",
       "      <td>4.617925</td>\n",
       "    </tr>\n",
       "    <tr>\n",
       "      <th>2</th>\n",
       "      <td>u108339</td>\n",
       "      <td>[1845, 2009, 2356, 1424, 2939, 323389]</td>\n",
       "      <td>[5.059285827675876, 4.7418763327790145, 4.5937...</td>\n",
       "      <td>4.659100</td>\n",
       "      <td>5.059286</td>\n",
       "      <td>4.595915</td>\n",
       "    </tr>\n",
       "    <tr>\n",
       "      <th>3</th>\n",
       "      <td>u101138</td>\n",
       "      <td>[5933, 6186, 5055, 6977, 5206, 488389]</td>\n",
       "      <td>[4.709798414506177, 5.605671794967433, 4.98582...</td>\n",
       "      <td>4.890083</td>\n",
       "      <td>5.605672</td>\n",
       "      <td>4.840417</td>\n",
       "    </tr>\n",
       "    <tr>\n",
       "      <th>4</th>\n",
       "      <td>u108248</td>\n",
       "      <td>[707, 1144, 2532, 2928, 3133, 324592]</td>\n",
       "      <td>[4.613264566877303, 4.813505653558882, 5.21980...</td>\n",
       "      <td>4.735969</td>\n",
       "      <td>5.219808</td>\n",
       "      <td>4.631162</td>\n",
       "    </tr>\n",
       "    <tr>\n",
       "      <th>...</th>\n",
       "      <td>...</td>\n",
       "      <td>...</td>\n",
       "      <td>...</td>\n",
       "      <td>...</td>\n",
       "      <td>...</td>\n",
       "      <td>...</td>\n",
       "    </tr>\n",
       "    <tr>\n",
       "      <th>7995</th>\n",
       "      <td>u107463</td>\n",
       "      <td>[323918, 323362, 323704, 323452, 324291, 251]</td>\n",
       "      <td>[4.062011248159626, 4.468812254683797, 4.53267...</td>\n",
       "      <td>4.475762</td>\n",
       "      <td>5.547408</td>\n",
       "      <td>4.381378</td>\n",
       "    </tr>\n",
       "    <tr>\n",
       "      <th>7996</th>\n",
       "      <td>u101241</td>\n",
       "      <td>[5532, 5860, 7755, 7140, 5182, 488337]</td>\n",
       "      <td>[5.419337771687079, 5.066623625225241, 4.81321...</td>\n",
       "      <td>4.916224</td>\n",
       "      <td>5.419338</td>\n",
       "      <td>4.795552</td>\n",
       "    </tr>\n",
       "    <tr>\n",
       "      <th>7997</th>\n",
       "      <td>u106486</td>\n",
       "      <td>[322811, 323898, 321858, 323345, 323491, 2193]</td>\n",
       "      <td>[4.153632356951625, 4.142233019987925, 4.26663...</td>\n",
       "      <td>4.463364</td>\n",
       "      <td>5.031436</td>\n",
       "      <td>4.334905</td>\n",
       "    </tr>\n",
       "    <tr>\n",
       "      <th>7998</th>\n",
       "      <td>u102220</td>\n",
       "      <td>[5436, 6092, 6891, 7045, 5320, 487379]</td>\n",
       "      <td>[5.201370089849887, 5.08649834511191, 5.046570...</td>\n",
       "      <td>4.887605</td>\n",
       "      <td>5.201370</td>\n",
       "      <td>4.924288</td>\n",
       "    </tr>\n",
       "    <tr>\n",
       "      <th>7999</th>\n",
       "      <td>u105118</td>\n",
       "      <td>[294096, 293759, 294178, 293544, 293921, 2909]</td>\n",
       "      <td>[5.082179584862771, 5.135931110307721, 5.59316...</td>\n",
       "      <td>4.989971</td>\n",
       "      <td>5.593165</td>\n",
       "      <td>5.107777</td>\n",
       "    </tr>\n",
       "  </tbody>\n",
       "</table>\n",
       "<p>8000 rows × 6 columns</p>\n",
       "</div>"
      ],
      "text/plain": [
       "          uid                                        articles  \\\n",
       "0     u105138  [293672, 293328, 293001, 293622, 293126, 1852]   \n",
       "1     u108690          [3405, 1739, 2972, 1158, 1599, 322665]   \n",
       "2     u108339          [1845, 2009, 2356, 1424, 2939, 323389]   \n",
       "3     u101138          [5933, 6186, 5055, 6977, 5206, 488389]   \n",
       "4     u108248           [707, 1144, 2532, 2928, 3133, 324592]   \n",
       "...       ...                                             ...   \n",
       "7995  u107463   [323918, 323362, 323704, 323452, 324291, 251]   \n",
       "7996  u101241          [5532, 5860, 7755, 7140, 5182, 488337]   \n",
       "7997  u106486  [322811, 323898, 321858, 323345, 323491, 2193]   \n",
       "7998  u102220          [5436, 6092, 6891, 7045, 5320, 487379]   \n",
       "7999  u105118  [294096, 293759, 294178, 293544, 293921, 2909]   \n",
       "\n",
       "                                         articles_ratio  articles_ratio_mean  \\\n",
       "0     [4.013690172450131, 5.240918028627772, 4.12346...             4.662899   \n",
       "1     [4.415708276944557, 4.815370600866168, 4.70097...             4.565702   \n",
       "2     [5.059285827675876, 4.7418763327790145, 4.5937...             4.659100   \n",
       "3     [4.709798414506177, 5.605671794967433, 4.98582...             4.890083   \n",
       "4     [4.613264566877303, 4.813505653558882, 5.21980...             4.735969   \n",
       "...                                                 ...                  ...   \n",
       "7995  [4.062011248159626, 4.468812254683797, 4.53267...             4.475762   \n",
       "7996  [5.419337771687079, 5.066623625225241, 4.81321...             4.916224   \n",
       "7997  [4.153632356951625, 4.142233019987925, 4.26663...             4.463364   \n",
       "7998  [5.201370089849887, 5.08649834511191, 5.046570...             4.887605   \n",
       "7999  [5.082179584862771, 5.135931110307721, 5.59316...             4.989971   \n",
       "\n",
       "      articles_ratio_max  articles_ratio_median  \n",
       "0               5.289591               4.654866  \n",
       "1               4.815371               4.617925  \n",
       "2               5.059286               4.595915  \n",
       "3               5.605672               4.840417  \n",
       "4               5.219808               4.631162  \n",
       "...                  ...                    ...  \n",
       "7995            5.547408               4.381378  \n",
       "7996            5.419338               4.795552  \n",
       "7997            5.031436               4.334905  \n",
       "7998            5.201370               4.924288  \n",
       "7999            5.593165               5.107777  \n",
       "\n",
       "[8000 rows x 6 columns]"
      ]
     },
     "execution_count": 71,
     "metadata": {},
     "output_type": "execute_result"
    }
   ],
   "source": [
    "users_"
   ]
  },
  {
   "cell_type": "code",
   "execution_count": 72,
   "metadata": {},
   "outputs": [],
   "source": [
    "user_embeddings = get_user_embedding_df(get_user_embedding_max)\n",
    "X = pd.merge(user_embeddings, target, 'left')"
   ]
  },
  {
   "cell_type": "code",
   "execution_count": 73,
   "metadata": {},
   "outputs": [
    {
     "data": {
      "text/html": [
       "<div>\n",
       "<style scoped>\n",
       "    .dataframe tbody tr th:only-of-type {\n",
       "        vertical-align: middle;\n",
       "    }\n",
       "\n",
       "    .dataframe tbody tr th {\n",
       "        vertical-align: top;\n",
       "    }\n",
       "\n",
       "    .dataframe thead th {\n",
       "        text-align: right;\n",
       "    }\n",
       "</style>\n",
       "<table border=\"1\" class=\"dataframe\">\n",
       "  <thead>\n",
       "    <tr style=\"text-align: right;\">\n",
       "      <th></th>\n",
       "      <th>uid</th>\n",
       "      <th>topic_0</th>\n",
       "      <th>topic_1</th>\n",
       "      <th>topic_2</th>\n",
       "      <th>topic_3</th>\n",
       "      <th>topic_4</th>\n",
       "      <th>topic_5</th>\n",
       "      <th>topic_6</th>\n",
       "      <th>topic_7</th>\n",
       "      <th>topic_8</th>\n",
       "      <th>...</th>\n",
       "      <th>topic_16</th>\n",
       "      <th>topic_17</th>\n",
       "      <th>topic_18</th>\n",
       "      <th>topic_19</th>\n",
       "      <th>topic_20</th>\n",
       "      <th>topic_21</th>\n",
       "      <th>topic_22</th>\n",
       "      <th>topic_23</th>\n",
       "      <th>topic_24</th>\n",
       "      <th>churn</th>\n",
       "    </tr>\n",
       "  </thead>\n",
       "  <tbody>\n",
       "    <tr>\n",
       "      <th>0</th>\n",
       "      <td>u105138</td>\n",
       "      <td>0.108087</td>\n",
       "      <td>0.000000</td>\n",
       "      <td>0.000000</td>\n",
       "      <td>0.092015</td>\n",
       "      <td>0.156603</td>\n",
       "      <td>0.098100</td>\n",
       "      <td>0.345244</td>\n",
       "      <td>0.493669</td>\n",
       "      <td>0.122489</td>\n",
       "      <td>...</td>\n",
       "      <td>0.393492</td>\n",
       "      <td>0.000000</td>\n",
       "      <td>0.259361</td>\n",
       "      <td>0.308626</td>\n",
       "      <td>0.084496</td>\n",
       "      <td>0.023957</td>\n",
       "      <td>0.322871</td>\n",
       "      <td>0.228211</td>\n",
       "      <td>0.044966</td>\n",
       "      <td>0</td>\n",
       "    </tr>\n",
       "    <tr>\n",
       "      <th>1</th>\n",
       "      <td>u108690</td>\n",
       "      <td>0.054296</td>\n",
       "      <td>0.015104</td>\n",
       "      <td>0.000000</td>\n",
       "      <td>0.206407</td>\n",
       "      <td>0.117336</td>\n",
       "      <td>0.012650</td>\n",
       "      <td>0.229283</td>\n",
       "      <td>0.508354</td>\n",
       "      <td>0.274946</td>\n",
       "      <td>...</td>\n",
       "      <td>0.231595</td>\n",
       "      <td>0.000000</td>\n",
       "      <td>0.101270</td>\n",
       "      <td>0.156597</td>\n",
       "      <td>0.022724</td>\n",
       "      <td>0.027090</td>\n",
       "      <td>0.195295</td>\n",
       "      <td>0.101017</td>\n",
       "      <td>0.000000</td>\n",
       "      <td>1</td>\n",
       "    </tr>\n",
       "    <tr>\n",
       "      <th>2</th>\n",
       "      <td>u108339</td>\n",
       "      <td>0.142124</td>\n",
       "      <td>0.010425</td>\n",
       "      <td>0.055964</td>\n",
       "      <td>0.128271</td>\n",
       "      <td>0.314220</td>\n",
       "      <td>0.020162</td>\n",
       "      <td>0.207016</td>\n",
       "      <td>0.120095</td>\n",
       "      <td>0.142168</td>\n",
       "      <td>...</td>\n",
       "      <td>0.313080</td>\n",
       "      <td>0.022978</td>\n",
       "      <td>0.019034</td>\n",
       "      <td>0.147875</td>\n",
       "      <td>0.000000</td>\n",
       "      <td>0.037738</td>\n",
       "      <td>0.174016</td>\n",
       "      <td>0.456431</td>\n",
       "      <td>0.000000</td>\n",
       "      <td>1</td>\n",
       "    </tr>\n",
       "    <tr>\n",
       "      <th>3</th>\n",
       "      <td>u101138</td>\n",
       "      <td>0.232598</td>\n",
       "      <td>0.000000</td>\n",
       "      <td>0.000000</td>\n",
       "      <td>0.000000</td>\n",
       "      <td>0.046486</td>\n",
       "      <td>0.000000</td>\n",
       "      <td>0.128535</td>\n",
       "      <td>0.687143</td>\n",
       "      <td>0.127800</td>\n",
       "      <td>...</td>\n",
       "      <td>0.058620</td>\n",
       "      <td>0.000000</td>\n",
       "      <td>0.461712</td>\n",
       "      <td>0.087816</td>\n",
       "      <td>0.021325</td>\n",
       "      <td>0.000000</td>\n",
       "      <td>0.274379</td>\n",
       "      <td>0.000000</td>\n",
       "      <td>0.108700</td>\n",
       "      <td>0</td>\n",
       "    </tr>\n",
       "    <tr>\n",
       "      <th>4</th>\n",
       "      <td>u108248</td>\n",
       "      <td>0.067453</td>\n",
       "      <td>0.015203</td>\n",
       "      <td>0.000000</td>\n",
       "      <td>0.020933</td>\n",
       "      <td>0.517178</td>\n",
       "      <td>0.109694</td>\n",
       "      <td>0.205886</td>\n",
       "      <td>0.663340</td>\n",
       "      <td>0.013318</td>\n",
       "      <td>...</td>\n",
       "      <td>0.316515</td>\n",
       "      <td>0.010040</td>\n",
       "      <td>0.070458</td>\n",
       "      <td>0.171816</td>\n",
       "      <td>0.010815</td>\n",
       "      <td>0.018800</td>\n",
       "      <td>0.242290</td>\n",
       "      <td>0.545635</td>\n",
       "      <td>0.023876</td>\n",
       "      <td>1</td>\n",
       "    </tr>\n",
       "    <tr>\n",
       "      <th>...</th>\n",
       "      <td>...</td>\n",
       "      <td>...</td>\n",
       "      <td>...</td>\n",
       "      <td>...</td>\n",
       "      <td>...</td>\n",
       "      <td>...</td>\n",
       "      <td>...</td>\n",
       "      <td>...</td>\n",
       "      <td>...</td>\n",
       "      <td>...</td>\n",
       "      <td>...</td>\n",
       "      <td>...</td>\n",
       "      <td>...</td>\n",
       "      <td>...</td>\n",
       "      <td>...</td>\n",
       "      <td>...</td>\n",
       "      <td>...</td>\n",
       "      <td>...</td>\n",
       "      <td>...</td>\n",
       "      <td>...</td>\n",
       "      <td>...</td>\n",
       "    </tr>\n",
       "    <tr>\n",
       "      <th>7995</th>\n",
       "      <td>u107463</td>\n",
       "      <td>0.000000</td>\n",
       "      <td>0.000000</td>\n",
       "      <td>0.000000</td>\n",
       "      <td>0.227500</td>\n",
       "      <td>0.396523</td>\n",
       "      <td>0.035390</td>\n",
       "      <td>0.748259</td>\n",
       "      <td>0.506157</td>\n",
       "      <td>0.092471</td>\n",
       "      <td>...</td>\n",
       "      <td>0.340954</td>\n",
       "      <td>0.000000</td>\n",
       "      <td>0.016010</td>\n",
       "      <td>0.100459</td>\n",
       "      <td>0.019380</td>\n",
       "      <td>0.098908</td>\n",
       "      <td>0.235546</td>\n",
       "      <td>0.323092</td>\n",
       "      <td>0.000000</td>\n",
       "      <td>0</td>\n",
       "    </tr>\n",
       "    <tr>\n",
       "      <th>7996</th>\n",
       "      <td>u101241</td>\n",
       "      <td>0.000000</td>\n",
       "      <td>0.000000</td>\n",
       "      <td>0.000000</td>\n",
       "      <td>0.000000</td>\n",
       "      <td>0.103908</td>\n",
       "      <td>0.519131</td>\n",
       "      <td>0.144415</td>\n",
       "      <td>0.757879</td>\n",
       "      <td>0.025031</td>\n",
       "      <td>...</td>\n",
       "      <td>0.297428</td>\n",
       "      <td>0.058675</td>\n",
       "      <td>0.000000</td>\n",
       "      <td>0.107119</td>\n",
       "      <td>0.294690</td>\n",
       "      <td>0.000000</td>\n",
       "      <td>0.136908</td>\n",
       "      <td>0.019524</td>\n",
       "      <td>0.660917</td>\n",
       "      <td>0</td>\n",
       "    </tr>\n",
       "    <tr>\n",
       "      <th>7997</th>\n",
       "      <td>u106486</td>\n",
       "      <td>0.109322</td>\n",
       "      <td>0.000000</td>\n",
       "      <td>0.055601</td>\n",
       "      <td>0.354105</td>\n",
       "      <td>0.100391</td>\n",
       "      <td>0.000000</td>\n",
       "      <td>0.527151</td>\n",
       "      <td>0.304937</td>\n",
       "      <td>0.232542</td>\n",
       "      <td>...</td>\n",
       "      <td>0.391789</td>\n",
       "      <td>0.012633</td>\n",
       "      <td>0.021779</td>\n",
       "      <td>0.205337</td>\n",
       "      <td>0.039027</td>\n",
       "      <td>0.000000</td>\n",
       "      <td>0.266712</td>\n",
       "      <td>0.356640</td>\n",
       "      <td>0.000000</td>\n",
       "      <td>0</td>\n",
       "    </tr>\n",
       "    <tr>\n",
       "      <th>7998</th>\n",
       "      <td>u102220</td>\n",
       "      <td>0.099435</td>\n",
       "      <td>0.000000</td>\n",
       "      <td>0.000000</td>\n",
       "      <td>0.000000</td>\n",
       "      <td>0.126498</td>\n",
       "      <td>0.656614</td>\n",
       "      <td>0.000000</td>\n",
       "      <td>0.599796</td>\n",
       "      <td>0.057213</td>\n",
       "      <td>...</td>\n",
       "      <td>0.000000</td>\n",
       "      <td>0.202652</td>\n",
       "      <td>0.130071</td>\n",
       "      <td>0.809222</td>\n",
       "      <td>0.000000</td>\n",
       "      <td>0.029951</td>\n",
       "      <td>0.305898</td>\n",
       "      <td>0.000000</td>\n",
       "      <td>0.118124</td>\n",
       "      <td>0</td>\n",
       "    </tr>\n",
       "    <tr>\n",
       "      <th>7999</th>\n",
       "      <td>u105118</td>\n",
       "      <td>0.096279</td>\n",
       "      <td>0.020154</td>\n",
       "      <td>0.000000</td>\n",
       "      <td>0.065516</td>\n",
       "      <td>0.035132</td>\n",
       "      <td>0.124085</td>\n",
       "      <td>0.284443</td>\n",
       "      <td>0.407308</td>\n",
       "      <td>0.000000</td>\n",
       "      <td>...</td>\n",
       "      <td>0.278168</td>\n",
       "      <td>0.000000</td>\n",
       "      <td>0.071819</td>\n",
       "      <td>0.167609</td>\n",
       "      <td>0.025766</td>\n",
       "      <td>0.455744</td>\n",
       "      <td>0.208102</td>\n",
       "      <td>0.174008</td>\n",
       "      <td>0.000000</td>\n",
       "      <td>0</td>\n",
       "    </tr>\n",
       "  </tbody>\n",
       "</table>\n",
       "<p>8000 rows × 27 columns</p>\n",
       "</div>"
      ],
      "text/plain": [
       "          uid   topic_0   topic_1   topic_2   topic_3   topic_4   topic_5  \\\n",
       "0     u105138  0.108087  0.000000  0.000000  0.092015  0.156603  0.098100   \n",
       "1     u108690  0.054296  0.015104  0.000000  0.206407  0.117336  0.012650   \n",
       "2     u108339  0.142124  0.010425  0.055964  0.128271  0.314220  0.020162   \n",
       "3     u101138  0.232598  0.000000  0.000000  0.000000  0.046486  0.000000   \n",
       "4     u108248  0.067453  0.015203  0.000000  0.020933  0.517178  0.109694   \n",
       "...       ...       ...       ...       ...       ...       ...       ...   \n",
       "7995  u107463  0.000000  0.000000  0.000000  0.227500  0.396523  0.035390   \n",
       "7996  u101241  0.000000  0.000000  0.000000  0.000000  0.103908  0.519131   \n",
       "7997  u106486  0.109322  0.000000  0.055601  0.354105  0.100391  0.000000   \n",
       "7998  u102220  0.099435  0.000000  0.000000  0.000000  0.126498  0.656614   \n",
       "7999  u105118  0.096279  0.020154  0.000000  0.065516  0.035132  0.124085   \n",
       "\n",
       "       topic_6   topic_7   topic_8  ...  topic_16  topic_17  topic_18  \\\n",
       "0     0.345244  0.493669  0.122489  ...  0.393492  0.000000  0.259361   \n",
       "1     0.229283  0.508354  0.274946  ...  0.231595  0.000000  0.101270   \n",
       "2     0.207016  0.120095  0.142168  ...  0.313080  0.022978  0.019034   \n",
       "3     0.128535  0.687143  0.127800  ...  0.058620  0.000000  0.461712   \n",
       "4     0.205886  0.663340  0.013318  ...  0.316515  0.010040  0.070458   \n",
       "...        ...       ...       ...  ...       ...       ...       ...   \n",
       "7995  0.748259  0.506157  0.092471  ...  0.340954  0.000000  0.016010   \n",
       "7996  0.144415  0.757879  0.025031  ...  0.297428  0.058675  0.000000   \n",
       "7997  0.527151  0.304937  0.232542  ...  0.391789  0.012633  0.021779   \n",
       "7998  0.000000  0.599796  0.057213  ...  0.000000  0.202652  0.130071   \n",
       "7999  0.284443  0.407308  0.000000  ...  0.278168  0.000000  0.071819   \n",
       "\n",
       "      topic_19  topic_20  topic_21  topic_22  topic_23  topic_24  churn  \n",
       "0     0.308626  0.084496  0.023957  0.322871  0.228211  0.044966      0  \n",
       "1     0.156597  0.022724  0.027090  0.195295  0.101017  0.000000      1  \n",
       "2     0.147875  0.000000  0.037738  0.174016  0.456431  0.000000      1  \n",
       "3     0.087816  0.021325  0.000000  0.274379  0.000000  0.108700      0  \n",
       "4     0.171816  0.010815  0.018800  0.242290  0.545635  0.023876      1  \n",
       "...        ...       ...       ...       ...       ...       ...    ...  \n",
       "7995  0.100459  0.019380  0.098908  0.235546  0.323092  0.000000      0  \n",
       "7996  0.107119  0.294690  0.000000  0.136908  0.019524  0.660917      0  \n",
       "7997  0.205337  0.039027  0.000000  0.266712  0.356640  0.000000      0  \n",
       "7998  0.809222  0.000000  0.029951  0.305898  0.000000  0.118124      0  \n",
       "7999  0.167609  0.025766  0.455744  0.208102  0.174008  0.000000      0  \n",
       "\n",
       "[8000 rows x 27 columns]"
      ]
     },
     "execution_count": 73,
     "metadata": {},
     "output_type": "execute_result"
    }
   ],
   "source": [
    "X"
   ]
  },
  {
   "cell_type": "code",
   "execution_count": 74,
   "metadata": {},
   "outputs": [],
   "source": [
    "def test_result_learning_idf():\n",
    "    user_work = X.copy()\n",
    "    user_work['articles_ratio_mean'] = StandardScaler().fit_transform(users_['articles_ratio_mean'].values.reshape(-1,1))\n",
    "    user_work['articles_ratio_max'] = MinMaxScaler().fit_transform(users_['articles_ratio_max'].values.reshape(-1,1))\n",
    "    user_work['articles_ratio_median'] = MinMaxScaler().fit_transform(users_['articles_ratio_median'].values.reshape(-1,1))\n",
    "    X_train, X_test, y_train, y_test = train_test_split(user_work.drop(['uid','churn'], axis=1),\n",
    "                                                    user_work['churn'], random_state=0)\n",
    "    logreg = LogisticRegression()\n",
    "    logreg.fit(X_train, y_train)\n",
    "    preds = logreg.predict_proba(X_test)[:, 1]\n",
    "    precision, recall, thresholds = precision_recall_curve(y_test, preds)\n",
    "    fscore = (2 * precision * recall) / (precision + recall)\n",
    "    ix = np.argmax(fscore)\n",
    "    print(f'Best Threshold={thresholds[ix]}, F-Score={fscore[ix]}, Precision={precision[ix]}, Recall={recall[ix]}')\n",
    "    font = {'size' : 15}\n",
    "    plt.rc('font', **font)\n",
    "    cnf_matrix = confusion_matrix(y_test, preds>thresholds[ix])\n",
    "    plt.figure(figsize=(10, 8))\n",
    "    plot_confusion_matrix(cnf_matrix, classes=['Non-Churn', 'churn'],\n",
    "                      title='Confusion matrix')\n",
    "    plt.savefig(\"conf_matrix.png\")\n",
    "    plt.show()\n",
    "    print(f'auc - {roc_auc_score(y_test, preds)}')\n",
    "    return roc_auc_score(y_test, preds),fscore[ix],precision[ix],recall[ix]"
   ]
  },
  {
   "cell_type": "code",
   "execution_count": 75,
   "metadata": {},
   "outputs": [
    {
     "name": "stdout",
     "output_type": "stream",
     "text": [
      "Best Threshold=0.2991842439715177, F-Score=0.869047619047619, Precision=0.8455598455598455, Recall=0.8938775510204081\n",
      "Confusion matrix, without normalization\n",
      "[[1715   40]\n",
      " [  27  218]]\n"
     ]
    },
    {
     "data": {
      "image/png": "[encoded data removed]",
      "text/plain": [
       "<Figure size 720x576 with 2 Axes>"
      ]
     },
     "metadata": {
      "needs_background": "light"
     },
     "output_type": "display_data"
    },
    {
     "name": "stdout",
     "output_type": "stream",
     "text": [
      "auc - 0.9890086632943775\n"
     ]
    }
   ],
   "source": [
    "result['idx'] = test_result_learning_idf()"
   ]
  },
  {
   "cell_type": "code",
   "execution_count": 76,
   "metadata": {},
   "outputs": [],
   "source": [
    "res['idx'] = result['idx']"
   ]
  },
  {
   "cell_type": "code",
   "execution_count": 77,
   "metadata": {},
   "outputs": [
    {
     "data": {
      "text/html": [
       "<div>\n",
       "<style scoped>\n",
       "    .dataframe tbody tr th:only-of-type {\n",
       "        vertical-align: middle;\n",
       "    }\n",
       "\n",
       "    .dataframe tbody tr th {\n",
       "        vertical-align: top;\n",
       "    }\n",
       "\n",
       "    .dataframe thead th {\n",
       "        text-align: right;\n",
       "    }\n",
       "</style>\n",
       "<table border=\"1\" class=\"dataframe\">\n",
       "  <thead>\n",
       "    <tr style=\"text-align: right;\">\n",
       "      <th></th>\n",
       "      <th>mean</th>\n",
       "      <th>median</th>\n",
       "      <th>max</th>\n",
       "      <th>idx</th>\n",
       "    </tr>\n",
       "  </thead>\n",
       "  <tbody>\n",
       "    <tr>\n",
       "      <th>roc_auc</th>\n",
       "      <td>0.947460</td>\n",
       "      <td>0.977645</td>\n",
       "      <td>0.968345</td>\n",
       "      <td>0.989009</td>\n",
       "    </tr>\n",
       "    <tr>\n",
       "      <th>f1_score</th>\n",
       "      <td>0.676923</td>\n",
       "      <td>0.790795</td>\n",
       "      <td>0.784394</td>\n",
       "      <td>0.869048</td>\n",
       "    </tr>\n",
       "    <tr>\n",
       "      <th>precision</th>\n",
       "      <td>0.582353</td>\n",
       "      <td>0.811159</td>\n",
       "      <td>0.789256</td>\n",
       "      <td>0.845560</td>\n",
       "    </tr>\n",
       "    <tr>\n",
       "      <th>recall</th>\n",
       "      <td>0.808163</td>\n",
       "      <td>0.771429</td>\n",
       "      <td>0.779592</td>\n",
       "      <td>0.893878</td>\n",
       "    </tr>\n",
       "  </tbody>\n",
       "</table>\n",
       "</div>"
      ],
      "text/plain": [
       "               mean    median       max       idx\n",
       "roc_auc    0.947460  0.977645  0.968345  0.989009\n",
       "f1_score   0.676923  0.790795  0.784394  0.869048\n",
       "precision  0.582353  0.811159  0.789256  0.845560\n",
       "recall     0.808163  0.771429  0.779592  0.893878"
      ]
     },
     "execution_count": 77,
     "metadata": {},
     "output_type": "execute_result"
    }
   ],
   "source": [
    "res"
   ]
  },
  {
   "cell_type": "markdown",
   "metadata": {},
   "source": [
    "Результапты говорят сами за себя"
   ]
  },
  {
   "cell_type": "markdown",
   "metadata": {},
   "source": [
    "После каждого пересчета результаты меняются. max и mediana иногда меняются местами."
   ]
  },
  {
   "cell_type": "code",
   "execution_count": null,
   "metadata": {},
   "outputs": [],
   "source": []
  },
  {
   "cell_type": "code",
   "execution_count": null,
   "metadata": {},
   "outputs": [],
   "source": []
  },
  {
   "cell_type": "code",
   "execution_count": null,
   "metadata": {},
   "outputs": [],
   "source": []
  },
  {
   "cell_type": "code",
   "execution_count": null,
   "metadata": {},
   "outputs": [],
   "source": []
  },
  {
   "cell_type": "code",
   "execution_count": null,
   "metadata": {},
   "outputs": [],
   "source": []
  },
  {
   "cell_type": "code",
   "execution_count": null,
   "metadata": {},
   "outputs": [],
   "source": []
  },
  {
   "cell_type": "code",
   "execution_count": null,
   "metadata": {},
   "outputs": [],
   "source": []
  },
  {
   "cell_type": "code",
   "execution_count": null,
   "metadata": {},
   "outputs": [],
   "source": [
    "\n",
    "    \n",
    "   "
   ]
  },
  {
   "cell_type": "code",
   "execution_count": null,
   "metadata": {},
   "outputs": [],
   "source": []
  }
 ],
 "metadata": {
  "kernelspec": {
   "display_name": "Python 3",
   "language": "python",
   "name": "python3"
  },
  "language_info": {
   "codemirror_mode": {
    "name": "ipython",
    "version": 3
   },
   "file_extension": ".py",
   "mimetype": "text/x-python",
   "name": "python",
   "nbconvert_exporter": "python",
   "pygments_lexer": "ipython3",
   "version": "3.8.3"
  }
 },
 "nbformat": 4,
 "nbformat_minor": 2
}
