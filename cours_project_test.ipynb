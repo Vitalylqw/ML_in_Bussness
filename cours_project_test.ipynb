{
 "cells": [
  {
   "cell_type": "code",
   "execution_count": 1,
   "metadata": {},
   "outputs": [],
   "source": [
    "import pandas as pd\n",
    "import numpy as np\n",
    "from sklearn.pipeline import Pipeline, make_pipeline\n",
    "from sklearn.base import BaseEstimator, TransformerMixin\n",
    "from sklearn.linear_model import LogisticRegression\n",
    "from sklearn.model_selection import train_test_split\n",
    "from sklearn.feature_extraction.text import TfidfVectorizer\n",
    "import itertools\n",
    "from scipy.sparse import csr_matrix\n",
    "import matplotlib.pyplot as plt\n",
    "from tqdm import tqdm\n",
    "import re\n",
    "from nltk.corpus import stopwords\n",
    "from razdel import tokenize \n",
    "import pymorphy2\n",
    "\n",
    "\n",
    "%matplotlib inline"
   ]
  },
  {
   "cell_type": "code",
   "execution_count": 2,
   "metadata": {},
   "outputs": [],
   "source": [
    "df = pd.read_excel('item.xlsx')"
   ]
  },
  {
   "cell_type": "code",
   "execution_count": 3,
   "metadata": {},
   "outputs": [
    {
     "data": {
      "text/html": [
       "<div>\n",
       "<style scoped>\n",
       "    .dataframe tbody tr th:only-of-type {\n",
       "        vertical-align: middle;\n",
       "    }\n",
       "\n",
       "    .dataframe tbody tr th {\n",
       "        vertical-align: top;\n",
       "    }\n",
       "\n",
       "    .dataframe thead th {\n",
       "        text-align: right;\n",
       "    }\n",
       "</style>\n",
       "<table border=\"1\" class=\"dataframe\">\n",
       "  <thead>\n",
       "    <tr style=\"text-align: right;\">\n",
       "      <th></th>\n",
       "      <th>Период</th>\n",
       "      <th>Номенклатура</th>\n",
       "      <th>Контрагент</th>\n",
       "      <th>Цена</th>\n",
       "    </tr>\n",
       "  </thead>\n",
       "  <tbody>\n",
       "    <tr>\n",
       "      <th>0</th>\n",
       "      <td>14.01.2021 14:22:17</td>\n",
       "      <td>Нож технический 18мм</td>\n",
       "      <td>ЦентрСнаб</td>\n",
       "      <td>20.10</td>\n",
       "    </tr>\n",
       "    <tr>\n",
       "      <th>1</th>\n",
       "      <td>14.01.2021 14:22:17</td>\n",
       "      <td>Пылесос строительный MAKITA VC2512L (1000 Вт, ...</td>\n",
       "      <td>ЦентрСнаб</td>\n",
       "      <td>13378.00</td>\n",
       "    </tr>\n",
       "    <tr>\n",
       "      <th>2</th>\n",
       "      <td>14.01.2021 14:22:17</td>\n",
       "      <td>Флисовый пылесборный мешок для VC2010L/VC3011L...</td>\n",
       "      <td>ЦентрСнаб</td>\n",
       "      <td>1757.70</td>\n",
       "    </tr>\n",
       "    <tr>\n",
       "      <th>3</th>\n",
       "      <td>14.01.2021 14:22:17</td>\n",
       "      <td>Штроборез MAKITA SG150 (1800 Вт, 150мм, 7-45мм...</td>\n",
       "      <td>ЦентрСнаб</td>\n",
       "      <td>52980.00</td>\n",
       "    </tr>\n",
       "    <tr>\n",
       "      <th>4</th>\n",
       "      <td>14.01.2021 14:19:25</td>\n",
       "      <td>Лента ACE-TAPE/50 Armaflex</td>\n",
       "      <td>ГЕСЕР</td>\n",
       "      <td>894.00</td>\n",
       "    </tr>\n",
       "    <tr>\n",
       "      <th>...</th>\n",
       "      <td>...</td>\n",
       "      <td>...</td>\n",
       "      <td>...</td>\n",
       "      <td>...</td>\n",
       "    </tr>\n",
       "    <tr>\n",
       "      <th>208356</th>\n",
       "      <td>25.01.2013 17:24:07</td>\n",
       "      <td>Карандаш строительный 180мм</td>\n",
       "      <td>Боргус</td>\n",
       "      <td>6.00</td>\n",
       "    </tr>\n",
       "    <tr>\n",
       "      <th>208357</th>\n",
       "      <td>25.01.2013 17:24:07</td>\n",
       "      <td>Силикон прозрачный</td>\n",
       "      <td>Боргус</td>\n",
       "      <td>95.00</td>\n",
       "    </tr>\n",
       "    <tr>\n",
       "      <th>208358</th>\n",
       "      <td>25.01.2013 17:24:07</td>\n",
       "      <td>Круг отрезной по металлу 125х1,2х22,2мм</td>\n",
       "      <td>Боргус</td>\n",
       "      <td>9.95</td>\n",
       "    </tr>\n",
       "    <tr>\n",
       "      <th>208359</th>\n",
       "      <td>25.01.2013 17:24:07</td>\n",
       "      <td>Бур SDS-plus 8х100х160 мм</td>\n",
       "      <td>Боргус</td>\n",
       "      <td>54.00</td>\n",
       "    </tr>\n",
       "    <tr>\n",
       "      <th>208360</th>\n",
       "      <td>25.01.2013 17:24:07</td>\n",
       "      <td>Круг зачистной по металлу 125*6*22</td>\n",
       "      <td>Боргус</td>\n",
       "      <td>27.90</td>\n",
       "    </tr>\n",
       "  </tbody>\n",
       "</table>\n",
       "<p>208361 rows × 4 columns</p>\n",
       "</div>"
      ],
      "text/plain": [
       "                     Период  \\\n",
       "0       14.01.2021 14:22:17   \n",
       "1       14.01.2021 14:22:17   \n",
       "2       14.01.2021 14:22:17   \n",
       "3       14.01.2021 14:22:17   \n",
       "4       14.01.2021 14:19:25   \n",
       "...                     ...   \n",
       "208356  25.01.2013 17:24:07   \n",
       "208357  25.01.2013 17:24:07   \n",
       "208358  25.01.2013 17:24:07   \n",
       "208359  25.01.2013 17:24:07   \n",
       "208360  25.01.2013 17:24:07   \n",
       "\n",
       "                                             Номенклатура Контрагент      Цена  \n",
       "0                                    Нож технический 18мм  ЦентрСнаб     20.10  \n",
       "1       Пылесос строительный MAKITA VC2512L (1000 Вт, ...  ЦентрСнаб  13378.00  \n",
       "2       Флисовый пылесборный мешок для VC2010L/VC3011L...  ЦентрСнаб   1757.70  \n",
       "3       Штроборез MAKITA SG150 (1800 Вт, 150мм, 7-45мм...  ЦентрСнаб  52980.00  \n",
       "4                              Лента ACE-TAPE/50 Armaflex      ГЕСЕР    894.00  \n",
       "...                                                   ...        ...       ...  \n",
       "208356                        Карандаш строительный 180мм     Боргус      6.00  \n",
       "208357                                 Силикон прозрачный     Боргус     95.00  \n",
       "208358            Круг отрезной по металлу 125х1,2х22,2мм     Боргус      9.95  \n",
       "208359                          Бур SDS-plus 8х100х160 мм     Боргус     54.00  \n",
       "208360                 Круг зачистной по металлу 125*6*22     Боргус     27.90  \n",
       "\n",
       "[208361 rows x 4 columns]"
      ]
     },
     "execution_count": 3,
     "metadata": {},
     "output_type": "execute_result"
    }
   ],
   "source": [
    "df"
   ]
  },
  {
   "cell_type": "code",
   "execution_count": 4,
   "metadata": {},
   "outputs": [],
   "source": [
    "df_item=pd.DataFrame(df['Номенклатура'])"
   ]
  },
  {
   "cell_type": "code",
   "execution_count": 5,
   "metadata": {},
   "outputs": [],
   "source": [
    "df_item.drop_duplicates('Номенклатура',inplace=True, ignore_index=True)"
   ]
  },
  {
   "cell_type": "code",
   "execution_count": 6,
   "metadata": {},
   "outputs": [],
   "source": [
    "stopword_ru = stopwords.words('russian')\n",
    "morph = pymorphy2.MorphAnalyzer()"
   ]
  },
  {
   "cell_type": "code",
   "execution_count": 7,
   "metadata": {},
   "outputs": [],
   "source": [
    "def clean_text(text):\n",
    "    '''\n",
    "    очистка текста\n",
    "    \n",
    "    на выходе очищеный текст\n",
    "    \n",
    "    '''\n",
    "    if not isinstance(text, str):\n",
    "        text = str(text)\n",
    "    \n",
    "    text = text.lower()\n",
    "    text = text.strip('\\n').strip('\\r').strip('\\t')\n",
    "    text = re.sub(\"-\\s\\r\\n\\|-\\s\\r\\n|\\r\\n\", '', str(text))\n",
    "    text = re.sub(\"[[]|[]]|[/]\", ' ', text)\n",
    "    text = re.sub(\"[-—.,_:;*()]\", ' ', text)\n",
    "    text = re.sub(r\"(\\d)(x)(\\d)\", r'\\1 \\3', text)\n",
    "    text = re.sub(r\"(\\d)(X)(\\d)\", r'\\1 \\3', text)\n",
    "    text = re.sub(r\"(\\d)(х)(\\d)\", r'\\1 \\3', text)\n",
    "    text = re.sub(r\"(\\d)(Х)(\\d)\", r'\\1 \\3', text)\n",
    "    text = re.sub(\" х | Х | x | X \", ' ', text)\n",
    "    \n",
    "    \n",
    "    text = re.sub(\"[-—.,:;_%©«»?*!@#№$^•·&()]|[+=]|[[]|[]]|[/]|\", '', text)\n",
    "    text = re.sub(r\"\\r\\n\\t|\\n|\\\\s|\\r\\t|\\\\n\", ' ', text)\n",
    "    text = re.sub(r'[\"]','',text)\n",
    "    text = re.sub(r\"['”]\",'',text)\n",
    "    text = re.sub(r'[\\xad]|[\\s+]', ' ', text.strip())\n",
    "    text = re.sub(\"(\\d)(\\D)\",r'\\1 \\2',text)\n",
    "    text = re.sub(\"(\\D)(\\d)\",r'\\1 \\2',text)\n",
    "    return text\n",
    "\n",
    "cache = {}\n",
    "\n",
    "def lemmatization(text):\n",
    "    '''\n",
    "    лемматизация\n",
    "        [0] если зашел тип не `str` делаем его `str`\n",
    "        [1] токенизация предложения через razdel\n",
    "        [2] проверка есть ли в начале слова '-'\n",
    "        [3] проверка токена с одного символа\n",
    "        [4] проверка есть ли данное слово в кэше\n",
    "        [5] лемматизация слова\n",
    "        [6] проверка на стоп-слова\n",
    "\n",
    "    на выходе лист отлемматизированых токенов\n",
    "    '''\n",
    "\n",
    "    # [0]\n",
    "    if not isinstance(text, str):\n",
    "        text = str(text)\n",
    "    \n",
    "    # [1]\n",
    "    tokens = list(tokenize(text))\n",
    "    words = [_.text for _ in tokens]\n",
    "\n",
    "    words_lem = []\n",
    "    for w in words:\n",
    "        if w[0] == '-': # [2]\n",
    "            w = w[1:]\n",
    "        if w in cache: # [4]\n",
    "            words_lem.append(cache[w])\n",
    "        else: # [5]\n",
    "            temp_cach = cache[w] = morph.parse(w)[0].normal_form\n",
    "            words_lem.append(temp_cach)\n",
    "    \n",
    "    words_lem_without_stopwords=[i for i in words_lem if not i in stopword_ru] # [6]\n",
    "    \n",
    "    return ' '.join(words_lem_without_stopwords)\n",
    "\n",
    "\n",
    "def get_search_word(txt):\n",
    "    search_word = clean_text(txt)\n",
    "    search_word = lemmatization(search_word)\n",
    "    return  text.transform ([search_word])\n",
    "\n",
    "def search_item(search_word,num_var):\n",
    "    search_word = get_search_word(search_word)\n",
    "    _,w = search_word.nonzero()\n",
    "    w_w = search_word.data\n",
    "    search_data = []\n",
    "    for i in range(dict_text.shape[0]):\n",
    "        d = 0\n",
    "        inx_row  = np.where(row==i)\n",
    "        string = word[inx_row]\n",
    "        string_data = words_weights[inx_row]\n",
    "        for k,j in enumerate(w):\n",
    "            if j in string:\n",
    "                 d+= (w_w[k]-string_data[np.where(string==j)][0])**2\n",
    "            else:\n",
    "                 d+= w_w[k]**2  \n",
    "        search_data.append((i,d**0.5))        \n",
    "    search_data.sort(key = lambda x: x[1])\n",
    "    my_words= list(map(lambda x: df_item.loc[x[0],'Номенклатура'] ,search_data[:num_var]))\n",
    "    return my_words\n"
   ]
  },
  {
   "cell_type": "code",
   "execution_count": 8,
   "metadata": {},
   "outputs": [],
   "source": [
    "df_item['analys']=df_item['Номенклатура']"
   ]
  },
  {
   "cell_type": "code",
   "execution_count": 9,
   "metadata": {},
   "outputs": [
    {
     "name": "stderr",
     "output_type": "stream",
     "text": [
      "<ipython-input-7-3ad013ee418f>:14: FutureWarning: Possible nested set at position 1\n",
      "  text = re.sub(\"[[]|[]]|[/]\", ' ', text)\n",
      "<ipython-input-7-3ad013ee418f>:23: FutureWarning: Possible nested set at position 33\n",
      "  text = re.sub(\"[-—.,:;_%©«»?*!@#№$^•·&()]|[+=]|[[]|[]]|[/]|\", '', text)\n"
     ]
    },
    {
     "name": "stdout",
     "output_type": "stream",
     "text": [
      "Wall time: 1.31 s\n"
     ]
    }
   ],
   "source": [
    "%%time\n",
    "df_item['analys']=df_item['Номенклатура'].apply(lambda x:clean_text(x) )"
   ]
  },
  {
   "cell_type": "code",
   "execution_count": 10,
   "metadata": {},
   "outputs": [
    {
     "name": "stdout",
     "output_type": "stream",
     "text": [
      "Wall time: 3.48 s\n"
     ]
    }
   ],
   "source": [
    "%%time\n",
    "df_item['analys']=df_item['analys'].apply(lambda x:lemmatization(x) )"
   ]
  },
  {
   "cell_type": "code",
   "execution_count": 11,
   "metadata": {
    "scrolled": true
   },
   "outputs": [
    {
     "data": {
      "text/html": [
       "<div>\n",
       "<style scoped>\n",
       "    .dataframe tbody tr th:only-of-type {\n",
       "        vertical-align: middle;\n",
       "    }\n",
       "\n",
       "    .dataframe tbody tr th {\n",
       "        vertical-align: top;\n",
       "    }\n",
       "\n",
       "    .dataframe thead th {\n",
       "        text-align: right;\n",
       "    }\n",
       "</style>\n",
       "<table border=\"1\" class=\"dataframe\">\n",
       "  <thead>\n",
       "    <tr style=\"text-align: right;\">\n",
       "      <th></th>\n",
       "      <th>Номенклатура</th>\n",
       "      <th>analys</th>\n",
       "    </tr>\n",
       "  </thead>\n",
       "  <tbody>\n",
       "    <tr>\n",
       "      <th>0</th>\n",
       "      <td>Нож технический 18мм</td>\n",
       "      <td>нож технический 18 мм</td>\n",
       "    </tr>\n",
       "    <tr>\n",
       "      <th>1</th>\n",
       "      <td>Пылесос строительный MAKITA VC2512L (1000 Вт, ...</td>\n",
       "      <td>пылесос строительный makita vc 2512 l 1000 вт ...</td>\n",
       "    </tr>\n",
       "    <tr>\n",
       "      <th>2</th>\n",
       "      <td>Флисовый пылесборный мешок для VC2010L/VC3011L...</td>\n",
       "      <td>флисовыя пылесборный мешок vc 2010 l vc 3011 l...</td>\n",
       "    </tr>\n",
       "    <tr>\n",
       "      <th>3</th>\n",
       "      <td>Штроборез MAKITA SG150 (1800 Вт, 150мм, 7-45мм...</td>\n",
       "      <td>штроборез makita sg 150 1800 вт 150 мм 7 45 мм...</td>\n",
       "    </tr>\n",
       "    <tr>\n",
       "      <th>4</th>\n",
       "      <td>Лента ACE-TAPE/50 Armaflex</td>\n",
       "      <td>лента ace tape 50 armaflex</td>\n",
       "    </tr>\n",
       "    <tr>\n",
       "      <th>...</th>\n",
       "      <td>...</td>\n",
       "      <td>...</td>\n",
       "    </tr>\n",
       "    <tr>\n",
       "      <th>31405</th>\n",
       "      <td>Напильник 3-гр 300 мм № 2</td>\n",
       "      <td>напильник 3 гр 300 мм 2</td>\n",
       "    </tr>\n",
       "    <tr>\n",
       "      <th>31406</th>\n",
       "      <td>Ключ накидной односторонний 80мм ударный</td>\n",
       "      <td>ключ накидной односторонний 80 мм ударный</td>\n",
       "    </tr>\n",
       "    <tr>\n",
       "      <th>31407</th>\n",
       "      <td>Замок-защелка регулируемый Тип 3 арт. 112</td>\n",
       "      <td>замок защёлка регулировать тип 3 арт 112</td>\n",
       "    </tr>\n",
       "    <tr>\n",
       "      <th>31408</th>\n",
       "      <td>Лента самоклеющаяся уплотнительная 5х10</td>\n",
       "      <td>лента самоклеющийся уплотнительный 5 10</td>\n",
       "    </tr>\n",
       "    <tr>\n",
       "      <th>31409</th>\n",
       "      <td>Лампа КГ-300вт 220-230в R7s 117мм</td>\n",
       "      <td>лампа кг 300 вт 220 230 r 7 s 117 мм</td>\n",
       "    </tr>\n",
       "  </tbody>\n",
       "</table>\n",
       "<p>31410 rows × 2 columns</p>\n",
       "</div>"
      ],
      "text/plain": [
       "                                            Номенклатура  \\\n",
       "0                                   Нож технический 18мм   \n",
       "1      Пылесос строительный MAKITA VC2512L (1000 Вт, ...   \n",
       "2      Флисовый пылесборный мешок для VC2010L/VC3011L...   \n",
       "3      Штроборез MAKITA SG150 (1800 Вт, 150мм, 7-45мм...   \n",
       "4                             Лента ACE-TAPE/50 Armaflex   \n",
       "...                                                  ...   \n",
       "31405                          Напильник 3-гр 300 мм № 2   \n",
       "31406           Ключ накидной односторонний 80мм ударный   \n",
       "31407          Замок-защелка регулируемый Тип 3 арт. 112   \n",
       "31408            Лента самоклеющаяся уплотнительная 5х10   \n",
       "31409                  Лампа КГ-300вт 220-230в R7s 117мм   \n",
       "\n",
       "                                                  analys  \n",
       "0                                  нож технический 18 мм  \n",
       "1      пылесос строительный makita vc 2512 l 1000 вт ...  \n",
       "2      флисовыя пылесборный мешок vc 2010 l vc 3011 l...  \n",
       "3      штроборез makita sg 150 1800 вт 150 мм 7 45 мм...  \n",
       "4                             лента ace tape 50 armaflex  \n",
       "...                                                  ...  \n",
       "31405                            напильник 3 гр 300 мм 2  \n",
       "31406          ключ накидной односторонний 80 мм ударный  \n",
       "31407           замок защёлка регулировать тип 3 арт 112  \n",
       "31408            лента самоклеющийся уплотнительный 5 10  \n",
       "31409               лампа кг 300 вт 220 230 r 7 s 117 мм  \n",
       "\n",
       "[31410 rows x 2 columns]"
      ]
     },
     "execution_count": 11,
     "metadata": {},
     "output_type": "execute_result"
    }
   ],
   "source": [
    "df_item"
   ]
  },
  {
   "cell_type": "code",
   "execution_count": 12,
   "metadata": {},
   "outputs": [],
   "source": [
    "text = TfidfVectorizer()"
   ]
  },
  {
   "cell_type": "code",
   "execution_count": 13,
   "metadata": {},
   "outputs": [],
   "source": [
    "dict_text = text.fit_transform(df_item['analys'])"
   ]
  },
  {
   "cell_type": "code",
   "execution_count": 14,
   "metadata": {},
   "outputs": [
    {
     "data": {
      "text/plain": [
       "(31410, 13697)"
      ]
     },
     "execution_count": 14,
     "metadata": {},
     "output_type": "execute_result"
    }
   ],
   "source": [
    "dict_text.shape"
   ]
  },
  {
   "cell_type": "code",
   "execution_count": 15,
   "metadata": {},
   "outputs": [],
   "source": [
    "words_weights = dict_text.data"
   ]
  },
  {
   "cell_type": "code",
   "execution_count": 16,
   "metadata": {},
   "outputs": [],
   "source": [
    "row,word = dict_text.nonzero()"
   ]
  },
  {
   "cell_type": "code",
   "execution_count": 17,
   "metadata": {},
   "outputs": [
    {
     "name": "stdout",
     "output_type": "stream",
     "text": [
      "Wall time: 5 s\n"
     ]
    },
    {
     "data": {
      "text/plain": [
       "['Алмазный диск  BOSCH Pf Concrete 125 х 22 мм по б',\n",
       " 'Алмазный диск BOSCH Stf Concrete 125 х 22 мм',\n",
       " 'Алмазный диск BOSCH Pf Concrete 125 х 22 мм по бетону',\n",
       " 'Алмазный диск сегментный BOSCH Pf Concrete 125 х 22 мм по бетону',\n",
       " 'Алмазный диск BOSCH Stf Concrete 230 х 22 мм']"
      ]
     },
     "execution_count": 17,
     "metadata": {},
     "output_type": "execute_result"
    }
   ],
   "source": [
    "%%time\n",
    "search_item('Диск алмазный Stnd Concrete 125-22.23',5)"
   ]
  },
  {
   "cell_type": "code",
   "execution_count": 18,
   "metadata": {},
   "outputs": [
    {
     "name": "stdout",
     "output_type": "stream",
     "text": [
      "Wall time: 4.75 s\n"
     ]
    },
    {
     "data": {
      "text/plain": [
       "['Перчатки ХБ с ПВХ 5-х ниточные',\n",
       " 'Перчатки ХБ с ПВХ 3-х ниточные',\n",
       " 'Перчатки ХБ с ПВХ 4-х ниточные']"
      ]
     },
     "execution_count": 18,
     "metadata": {},
     "output_type": "execute_result"
    }
   ],
   "source": [
    "%%time\n",
    "search_item('Перчатки ХБ с ПВХ 4-х ниточные',3)"
   ]
  },
  {
   "cell_type": "code",
   "execution_count": 19,
   "metadata": {},
   "outputs": [
    {
     "name": "stdout",
     "output_type": "stream",
     "text": [
      "Wall time: 4.79 s\n"
     ]
    },
    {
     "data": {
      "text/plain": [
       "['Профиль монтажный L-образный 30х30х2000х2',\n",
       " 'Профиль монтажный П-образный (30*30*2000*2)',\n",
       " 'Скоба U образная 1/2\" (D25*H40) с двумя гайками M6',\n",
       " 'Профиль монтажный U-образный 30х30х30х2000х2',\n",
       " 'Профиль монтажный П-образный 30*30*30*2мм L=2000мм',\n",
       " 'Профиль монтажный U-образный 30*30*30*2мм ПП-U L=3000мм',\n",
       " 'Профиль монтажный П-образный 30*30*30*2мм L=2000мм отверстия с 3-х сторон',\n",
       " 'Коробка монтажная 60х40мм',\n",
       " 'Профиль направляющий ПН-2 50х40 (3м)',\n",
       " 'Профиль направляющий ПН-2 50х40 3м']"
      ]
     },
     "execution_count": 19,
     "metadata": {},
     "output_type": "execute_result"
    }
   ],
   "source": [
    "%%time\n",
    "search_item('Профиль монтажный U-образный 40*40*2,5',10)"
   ]
  },
  {
   "cell_type": "code",
   "execution_count": 21,
   "metadata": {},
   "outputs": [
    {
     "name": "stdout",
     "output_type": "stream",
     "text": [
      "Wall time: 4.76 s\n"
     ]
    },
    {
     "data": {
      "text/plain": [
       "['Анкер латунный цанга М10',\n",
       " 'Анкер латунный забивной М10',\n",
       " 'Анкер латунный забивной М10 (уп. 3 шт)',\n",
       " 'Анкер латунный М10 РМА',\n",
       " 'Анкер латунный MSA 10 Sormat',\n",
       " 'Анкер латунный забивной М14',\n",
       " 'Анкер латунный забивной М16',\n",
       " 'Анкер латунный забивной М12',\n",
       " 'Анкер латунный забивной М8',\n",
       " 'Анкер латунный забивной М6']"
      ]
     },
     "execution_count": 21,
     "metadata": {},
     "output_type": "execute_result"
    }
   ],
   "source": [
    "%%time\n",
    "search_item('Анкер латунный диам 10',10)"
   ]
  },
  {
   "cell_type": "code",
   "execution_count": null,
   "metadata": {},
   "outputs": [],
   "source": []
  },
  {
   "cell_type": "code",
   "execution_count": null,
   "metadata": {},
   "outputs": [],
   "source": []
  },
  {
   "cell_type": "code",
   "execution_count": null,
   "metadata": {},
   "outputs": [],
   "source": []
  },
  {
   "cell_type": "code",
   "execution_count": null,
   "metadata": {},
   "outputs": [],
   "source": []
  },
  {
   "cell_type": "code",
   "execution_count": null,
   "metadata": {},
   "outputs": [],
   "source": []
  }
 ],
 "metadata": {
  "kernelspec": {
   "display_name": "Python 3",
   "language": "python",
   "name": "python3"
  },
  "language_info": {
   "codemirror_mode": {
    "name": "ipython",
    "version": 3
   },
   "file_extension": ".py",
   "mimetype": "text/x-python",
   "name": "python",
   "nbconvert_exporter": "python",
   "pygments_lexer": "ipython3",
   "version": "3.8.3"
  }
 },
 "nbformat": 4,
 "nbformat_minor": 4
}
